{
  "nbformat": 4,
  "nbformat_minor": 0,
  "metadata": {
    "colab": {
      "provenance": []
    },
    "kernelspec": {
      "name": "python3",
      "display_name": "Python 3"
    },
    "language_info": {
      "name": "python"
    }
  },
  "cells": [
    {
      "cell_type": "markdown",
      "source": [
        "# Импорт необходимых библиотек"
      ],
      "metadata": {
        "id": "-gTyupNa-BAd"
      }
    },
    {
      "cell_type": "code",
      "source": [
        "!pip install catboost"
      ],
      "metadata": {
        "colab": {
          "base_uri": "https://localhost:8080/"
        },
        "id": "7WpCxYhu-eO-",
        "outputId": "e311c018-4922-408a-bd4a-f61b73c8a579"
      },
      "execution_count": 5,
      "outputs": [
        {
          "output_type": "stream",
          "name": "stdout",
          "text": [
            "Collecting catboost\n",
            "  Downloading catboost-1.2.5-cp310-cp310-manylinux2014_x86_64.whl (98.2 MB)\n",
            "\u001b[2K     \u001b[90m━━━━━━━━━━━━━━━━━━━━━━━━━━━━━━━━━━━━━━━━\u001b[0m \u001b[32m98.2/98.2 MB\u001b[0m \u001b[31m8.8 MB/s\u001b[0m eta \u001b[36m0:00:00\u001b[0m\n",
            "\u001b[?25hRequirement already satisfied: graphviz in /usr/local/lib/python3.10/dist-packages (from catboost) (0.20.3)\n",
            "Requirement already satisfied: matplotlib in /usr/local/lib/python3.10/dist-packages (from catboost) (3.7.1)\n",
            "Requirement already satisfied: numpy>=1.16.0 in /usr/local/lib/python3.10/dist-packages (from catboost) (1.25.2)\n",
            "Requirement already satisfied: pandas>=0.24 in /usr/local/lib/python3.10/dist-packages (from catboost) (2.0.3)\n",
            "Requirement already satisfied: scipy in /usr/local/lib/python3.10/dist-packages (from catboost) (1.11.4)\n",
            "Requirement already satisfied: plotly in /usr/local/lib/python3.10/dist-packages (from catboost) (5.15.0)\n",
            "Requirement already satisfied: six in /usr/local/lib/python3.10/dist-packages (from catboost) (1.16.0)\n",
            "Requirement already satisfied: python-dateutil>=2.8.2 in /usr/local/lib/python3.10/dist-packages (from pandas>=0.24->catboost) (2.8.2)\n",
            "Requirement already satisfied: pytz>=2020.1 in /usr/local/lib/python3.10/dist-packages (from pandas>=0.24->catboost) (2023.4)\n",
            "Requirement already satisfied: tzdata>=2022.1 in /usr/local/lib/python3.10/dist-packages (from pandas>=0.24->catboost) (2024.1)\n",
            "Requirement already satisfied: contourpy>=1.0.1 in /usr/local/lib/python3.10/dist-packages (from matplotlib->catboost) (1.2.1)\n",
            "Requirement already satisfied: cycler>=0.10 in /usr/local/lib/python3.10/dist-packages (from matplotlib->catboost) (0.12.1)\n",
            "Requirement already satisfied: fonttools>=4.22.0 in /usr/local/lib/python3.10/dist-packages (from matplotlib->catboost) (4.53.0)\n",
            "Requirement already satisfied: kiwisolver>=1.0.1 in /usr/local/lib/python3.10/dist-packages (from matplotlib->catboost) (1.4.5)\n",
            "Requirement already satisfied: packaging>=20.0 in /usr/local/lib/python3.10/dist-packages (from matplotlib->catboost) (24.1)\n",
            "Requirement already satisfied: pillow>=6.2.0 in /usr/local/lib/python3.10/dist-packages (from matplotlib->catboost) (9.4.0)\n",
            "Requirement already satisfied: pyparsing>=2.3.1 in /usr/local/lib/python3.10/dist-packages (from matplotlib->catboost) (3.1.2)\n",
            "Requirement already satisfied: tenacity>=6.2.0 in /usr/local/lib/python3.10/dist-packages (from plotly->catboost) (8.3.0)\n",
            "Installing collected packages: catboost\n",
            "Successfully installed catboost-1.2.5\n"
          ]
        }
      ]
    },
    {
      "cell_type": "code",
      "execution_count": 6,
      "metadata": {
        "id": "mGXbCfow97Tg"
      },
      "outputs": [],
      "source": [
        "import pandas as pd # Библиотека Pandas для работы с табличными данными\n",
        "import numpy as np # библиотека Numpy для операций линейной алгебры и прочего\n",
        "import matplotlib.pyplot as plt # библиотека Matplotlib для визуализации\n",
        "import seaborn as sns # библиотека seaborn для визуализации\n",
        "import numpy as np # библиотека Numpy для операций линейной алгебры и прочего"
      ]
    },
    {
      "cell_type": "code",
      "source": [
        "import warnings\n",
        "warnings.filterwarnings('ignore')"
      ],
      "metadata": {
        "id": "_5FMNU8c-iVr"
      },
      "execution_count": 7,
      "outputs": []
    },
    {
      "cell_type": "code",
      "source": [
        "from sklearn.model_selection import train_test_split#  функция разбиения на тренировочную и тестовую выборку\n",
        "# в исполнении scikit-learn\n",
        "from sklearn.model_selection import ShuffleSplit # при кросс-валидации случайно перемешиваем данные\n",
        "from sklearn.model_selection import cross_validate # функция кросс-валидации от Scikit-learn\n",
        "\n",
        "from sklearn.metrics import mean_squared_error as mse # метрика MSE от Scikit-learn\n",
        "from sklearn.metrics import r2_score # коэффициент детерминации  от Scikit-learn\n",
        "\n",
        "from sklearn.metrics import PredictionErrorDisplay # Класс визуализации ошибок модели"
      ],
      "metadata": {
        "id": "tVLaokC-_FlS"
      },
      "execution_count": 11,
      "outputs": []
    },
    {
      "cell_type": "markdown",
      "source": [
        "# Загрузка набора данных"
      ],
      "metadata": {
        "id": "N90VzFc1-Kxt"
      }
    },
    {
      "cell_type": "markdown",
      "source": [
        "Набор данных представляет собой датасет, полученный с популярнеого онлайн авто маркетплейса.\n",
        "\n",
        "Набор включает ряд категориальных и численных значений, составляющих одну запись (строку). Число записей можно найти как число строк.\n",
        "\n",
        "Каждый столбец в записи — это отдельный параметр.\n",
        "\n",
        "Среди указанных параметров приведен целевой для задачи предсказания (регрессии) - цена автомобиля.\n",
        "\n",
        " Также среди параметров есть целевой для задачи классификации - тип топлива.\n"
      ],
      "metadata": {
        "id": "K0CGV3aS-qUb"
      }
    },
    {
      "cell_type": "code",
      "source": [
        "DF = pd.read_csv('/content/cars_raw.csv', delimiter = ',')\n",
        "DF.info()"
      ],
      "metadata": {
        "colab": {
          "base_uri": "https://localhost:8080/"
        },
        "id": "RO8I2qtK-wBU",
        "outputId": "b2fd61c3-f8b1-4858-9e6e-e7af6fff81ab"
      },
      "execution_count": 8,
      "outputs": [
        {
          "output_type": "stream",
          "name": "stdout",
          "text": [
            "<class 'pandas.core.frame.DataFrame'>\n",
            "RangeIndex: 9379 entries, 0 to 9378\n",
            "Data columns (total 32 columns):\n",
            " #   Column                 Non-Null Count  Dtype  \n",
            "---  ------                 --------------  -----  \n",
            " 0   Year                   9379 non-null   int64  \n",
            " 1   Make                   9379 non-null   object \n",
            " 2   Model                  9379 non-null   object \n",
            " 3   Used/New               9379 non-null   object \n",
            " 4   Price                  9379 non-null   object \n",
            " 5   ConsumerRating         9379 non-null   float64\n",
            " 6   ConsumerReviews        9379 non-null   int64  \n",
            " 7   SellerType             9379 non-null   object \n",
            " 8   SellerName             9379 non-null   object \n",
            " 9   SellerRating           9379 non-null   float64\n",
            " 10  SellerReviews          9379 non-null   int64  \n",
            " 11  StreetName             9379 non-null   object \n",
            " 12  State                  9379 non-null   object \n",
            " 13  Zipcode                9379 non-null   object \n",
            " 14  DealType               9157 non-null   object \n",
            " 15  ComfortRating          9379 non-null   float64\n",
            " 16  InteriorDesignRating   9379 non-null   float64\n",
            " 17  PerformanceRating      9379 non-null   float64\n",
            " 18  ValueForMoneyRating    9379 non-null   float64\n",
            " 19  ExteriorStylingRating  9379 non-null   float64\n",
            " 20  ReliabilityRating      9379 non-null   float64\n",
            " 21  ExteriorColor          9379 non-null   object \n",
            " 22  InteriorColor          9379 non-null   object \n",
            " 23  Drivetrain             9379 non-null   object \n",
            " 24  MinMPG                 9379 non-null   int64  \n",
            " 25  MaxMPG                 9379 non-null   int64  \n",
            " 26  FuelType               9379 non-null   object \n",
            " 27  Transmission           9379 non-null   object \n",
            " 28  Engine                 9379 non-null   object \n",
            " 29  VIN                    9379 non-null   object \n",
            " 30  Stock#                 9379 non-null   object \n",
            " 31  Mileage                9379 non-null   int64  \n",
            "dtypes: float64(8), int64(6), object(18)\n",
            "memory usage: 2.3+ MB\n"
          ]
        }
      ]
    },
    {
      "cell_type": "code",
      "source": [
        "df_new = DF[['Year', 'Make', 'Model', 'Used/New', 'SellerRating', 'FuelType', 'Transmission', 'Mileage', 'Price']].copy()\n",
        "df_new.info()"
      ],
      "metadata": {
        "colab": {
          "base_uri": "https://localhost:8080/"
        },
        "id": "5j4RnhgGANp4",
        "outputId": "d7cf9920-51a9-4bc6-b914-939ab384b3fb"
      },
      "execution_count": 39,
      "outputs": [
        {
          "output_type": "stream",
          "name": "stdout",
          "text": [
            "<class 'pandas.core.frame.DataFrame'>\n",
            "RangeIndex: 9379 entries, 0 to 9378\n",
            "Data columns (total 9 columns):\n",
            " #   Column        Non-Null Count  Dtype  \n",
            "---  ------        --------------  -----  \n",
            " 0   Year          9379 non-null   int64  \n",
            " 1   Make          9379 non-null   object \n",
            " 2   Model         9379 non-null   object \n",
            " 3   Used/New      9379 non-null   object \n",
            " 4   SellerRating  9379 non-null   float64\n",
            " 5   FuelType      9379 non-null   object \n",
            " 6   Transmission  9379 non-null   object \n",
            " 7   Mileage       9379 non-null   int64  \n",
            " 8   Price         9379 non-null   object \n",
            "dtypes: float64(1), int64(2), object(6)\n",
            "memory usage: 659.6+ KB\n"
          ]
        }
      ]
    },
    {
      "cell_type": "code",
      "source": [
        "df_new['Price'] = df_new['Price'].str.replace('$', '')\n",
        "df_new['Price'] = df_new['Price'].str.replace('Not Priced', '0')\n",
        "df_new['Price'] = df_new['Price'].str.replace(',', '').astype(int)"
      ],
      "metadata": {
        "id": "SZj1BGs-AWVu"
      },
      "execution_count": 40,
      "outputs": []
    },
    {
      "cell_type": "code",
      "source": [
        "df_new.info()"
      ],
      "metadata": {
        "colab": {
          "base_uri": "https://localhost:8080/"
        },
        "id": "hnfRoEaYA57U",
        "outputId": "a91c5b9c-eef7-45d8-bdad-69aeef344897"
      },
      "execution_count": 41,
      "outputs": [
        {
          "output_type": "stream",
          "name": "stdout",
          "text": [
            "<class 'pandas.core.frame.DataFrame'>\n",
            "RangeIndex: 9379 entries, 0 to 9378\n",
            "Data columns (total 9 columns):\n",
            " #   Column        Non-Null Count  Dtype  \n",
            "---  ------        --------------  -----  \n",
            " 0   Year          9379 non-null   int64  \n",
            " 1   Make          9379 non-null   object \n",
            " 2   Model         9379 non-null   object \n",
            " 3   Used/New      9379 non-null   object \n",
            " 4   SellerRating  9379 non-null   float64\n",
            " 5   FuelType      9379 non-null   object \n",
            " 6   Transmission  9379 non-null   object \n",
            " 7   Mileage       9379 non-null   int64  \n",
            " 8   Price         9379 non-null   int64  \n",
            "dtypes: float64(1), int64(3), object(5)\n",
            "memory usage: 659.6+ KB\n"
          ]
        }
      ]
    },
    {
      "cell_type": "markdown",
      "source": [
        "Список числовых и категориальных данных"
      ],
      "metadata": {
        "id": "uqm1cq6X-8oC"
      }
    },
    {
      "cell_type": "code",
      "source": [
        "cat_columns = []\n",
        "num_columns = []\n",
        "\n",
        "for column_name in df_new.columns:\n",
        "    if (df_new[column_name].dtypes == object):\n",
        "        cat_columns +=[column_name]\n",
        "    else:\n",
        "        num_columns +=[column_name]\n",
        "\n",
        "print('categorical columns:\\t ',cat_columns, '\\n len = ',len(cat_columns))\n",
        "\n",
        "print('numerical columns:\\t ',  num_columns, '\\n len = ',len(num_columns))\n",
        "\n"
      ],
      "metadata": {
        "colab": {
          "base_uri": "https://localhost:8080/"
        },
        "id": "ofjL2lEU-6qS",
        "outputId": "addff132-4452-4205-9cfb-7b9bb8bb705f"
      },
      "execution_count": 42,
      "outputs": [
        {
          "output_type": "stream",
          "name": "stdout",
          "text": [
            "categorical columns:\t  ['Make', 'Model', 'Used/New', 'FuelType', 'Transmission'] \n",
            " len =  5\n",
            "numerical columns:\t  ['Year', 'SellerRating', 'Mileage', 'Price'] \n",
            " len =  4\n"
          ]
        }
      ]
    },
    {
      "cell_type": "code",
      "source": [
        "# не забываем удалить целевую переменную цену из признаков\n",
        "X, y = df_new.drop(columns = ['Price']), df_new['Price']\n",
        "features_names = list(df_new.drop(columns = [\"Price\"]).columns)\n",
        "\n",
        "# разбиваем на тренировочную и валидационную\n",
        "X_train, X_val, y_train, y_val = train_test_split(X, y,\n",
        "                                                    test_size=0.3,\n",
        "                                                    random_state=42)"
      ],
      "metadata": {
        "id": "NLS4MqeQ_I0Q"
      },
      "execution_count": 56,
      "outputs": []
    },
    {
      "cell_type": "markdown",
      "source": [
        "## Модель CatBoost\n"
      ],
      "metadata": {
        "id": "AvArVvxR_aM5"
      }
    },
    {
      "cell_type": "code",
      "source": [
        "from catboost import Pool"
      ],
      "metadata": {
        "id": "nnJ_w_uu_QFU"
      },
      "execution_count": 30,
      "outputs": []
    },
    {
      "cell_type": "code",
      "source": [
        "from catboost import CatBoostRegressor"
      ],
      "metadata": {
        "id": "J-yjZxTx_XJ7"
      },
      "execution_count": 31,
      "outputs": []
    },
    {
      "cell_type": "code",
      "source": [
        "train_data_reg = Pool(\n",
        "    data=X_train,\n",
        "    label=y_train,\n",
        "    cat_features = cat_columns,\n",
        "    feature_names=features_names,\n",
        ")\n",
        "\n",
        "eval_data_reg = Pool(\n",
        "    data=X_val,\n",
        "    label=y_val,\n",
        "    cat_features = cat_columns,\n",
        "    feature_names=features_names\n",
        ")"
      ],
      "metadata": {
        "id": "JkzPrp3y_SQE"
      },
      "execution_count": 57,
      "outputs": []
    },
    {
      "cell_type": "markdown",
      "source": [
        "Создаем Класс, как обычно\n",
        "\n",
        "Ключевые настройки:\n",
        "\n",
        "* `iterations` - количество деревьев / итераций обучения\n",
        "\n",
        "* `objective`- функция потерь, которую надо минимизировать при обучении. Есть показатели для регрессии (среднеквадратичная ошибка), есть для классификации (`logloss`).\n",
        "* `eval_metric` - валидационная метрика, используемая для обнаружения переобучения и ранней остановки;\n",
        "* `early_stopping_rounds` - число итераций до остановки, если на их протяжении метрика качества не улучшалась по сравнению с оптимальной;\n",
        "* `cat_features` - список категориальных признаков (чтобы модель сделала свой TargetEncoder внутри)\n",
        "* `depth` - глубина дерева  (по умолчанию 6, максимальное значение - 16)\n",
        "* `verbose` - объем выводимой информации (выдавливать ответ каждые n итераций)\n",
        "* `random_state` – фиксируем сид для воспроизводимости;"
      ],
      "metadata": {
        "id": "eVKk_d1aCOxd"
      }
    },
    {
      "cell_type": "code",
      "source": [
        "model_reg = CatBoostRegressor(iterations = 10000,\n",
        "                           early_stopping_rounds=100,\n",
        "                           verbose = 100,\n",
        "                           cat_features = cat_columns,\n",
        "                           depth = 3,\n",
        "                              objective  = 'MAE',\n",
        "                           eval_metric= 'MAE',\n",
        "                              random_state = 42\n",
        "                           )\n"
      ],
      "metadata": {
        "id": "62h863RK_g7K"
      },
      "execution_count": 60,
      "outputs": []
    },
    {
      "cell_type": "code",
      "source": [
        "model_reg.fit(X=train_data_reg,\n",
        "              eval_set=eval_data_reg,)"
      ],
      "metadata": {
        "colab": {
          "base_uri": "https://localhost:8080/"
        },
        "id": "BY6K8n6Y_jIt",
        "outputId": "c9adeaad-29e2-49d7-a3d5-94bb1188d1fe"
      },
      "execution_count": 61,
      "outputs": [
        {
          "output_type": "stream",
          "name": "stdout",
          "text": [
            "0:\tlearn: 11978.5743740\ttest: 12147.3042881\tbest: 12147.3042881 (0)\ttotal: 6.57ms\tremaining: 1m 5s\n",
            "100:\tlearn: 7123.6013150\ttest: 6890.1308154\tbest: 6890.1308154 (100)\ttotal: 428ms\tremaining: 41.9s\n",
            "200:\tlearn: 6624.4656086\ttest: 6404.0337222\tbest: 6404.0337222 (200)\ttotal: 905ms\tremaining: 44.1s\n",
            "300:\tlearn: 6449.7422649\ttest: 6253.4753100\tbest: 6253.4753100 (300)\ttotal: 1.39s\tremaining: 44.6s\n",
            "400:\tlearn: 6269.6696657\ttest: 6106.4800201\tbest: 6106.4800201 (400)\ttotal: 1.8s\tremaining: 43.1s\n",
            "500:\tlearn: 6136.3210775\ttest: 5994.9579571\tbest: 5994.9579571 (500)\ttotal: 2.21s\tremaining: 41.9s\n",
            "600:\tlearn: 6037.0486014\ttest: 5918.1527079\tbest: 5918.1527079 (600)\ttotal: 2.64s\tremaining: 41.4s\n",
            "700:\tlearn: 5949.0199572\ttest: 5855.3019668\tbest: 5855.1610395 (699)\ttotal: 3.06s\tremaining: 40.6s\n",
            "800:\tlearn: 5878.9826013\ttest: 5803.4714300\tbest: 5803.4714300 (800)\ttotal: 3.48s\tremaining: 40s\n",
            "900:\tlearn: 5817.6924996\ttest: 5757.1753576\tbest: 5757.1753576 (900)\ttotal: 3.91s\tremaining: 39.5s\n",
            "1000:\tlearn: 5763.5277454\ttest: 5722.3370332\tbest: 5722.3370332 (1000)\ttotal: 4.34s\tremaining: 39s\n",
            "1100:\tlearn: 5708.9475799\ttest: 5685.3554522\tbest: 5685.3554522 (1100)\ttotal: 4.78s\tremaining: 38.6s\n",
            "1200:\tlearn: 5660.0936359\ttest: 5654.0527277\tbest: 5654.0527277 (1200)\ttotal: 5.19s\tremaining: 38.1s\n",
            "1300:\tlearn: 5614.7045349\ttest: 5622.3353644\tbest: 5622.3353644 (1300)\ttotal: 5.65s\tremaining: 37.8s\n",
            "1400:\tlearn: 5579.1196641\ttest: 5599.0399342\tbest: 5599.0399342 (1400)\ttotal: 6.08s\tremaining: 37.3s\n",
            "1500:\tlearn: 5548.3287552\ttest: 5580.1179255\tbest: 5579.8591592 (1496)\ttotal: 6.54s\tremaining: 37s\n",
            "1600:\tlearn: 5515.7670658\ttest: 5561.0862897\tbest: 5560.7964722 (1598)\ttotal: 6.99s\tremaining: 36.7s\n",
            "1700:\tlearn: 5480.7113418\ttest: 5538.4975062\tbest: 5538.4975062 (1700)\ttotal: 7.46s\tremaining: 36.4s\n",
            "1800:\tlearn: 5443.9763209\ttest: 5513.0496113\tbest: 5513.0496113 (1800)\ttotal: 7.92s\tremaining: 36s\n",
            "1900:\tlearn: 5419.3197663\ttest: 5498.6305006\tbest: 5498.6305006 (1900)\ttotal: 8.38s\tremaining: 35.7s\n",
            "2000:\tlearn: 5393.2738052\ttest: 5484.3654337\tbest: 5484.3654337 (2000)\ttotal: 9.09s\tremaining: 36.3s\n",
            "2100:\tlearn: 5367.9743249\ttest: 5470.4047163\tbest: 5470.4047163 (2100)\ttotal: 10.2s\tremaining: 38.4s\n",
            "2200:\tlearn: 5349.0169506\ttest: 5461.7408775\tbest: 5461.7408775 (2200)\ttotal: 11.3s\tremaining: 40.1s\n",
            "2300:\tlearn: 5329.6750601\ttest: 5448.9069444\tbest: 5448.9069444 (2300)\ttotal: 12.3s\tremaining: 41s\n",
            "2400:\tlearn: 5309.4541814\ttest: 5439.5856695\tbest: 5439.5140046 (2399)\ttotal: 13.5s\tremaining: 42.6s\n",
            "2500:\tlearn: 5283.3943780\ttest: 5421.9568078\tbest: 5421.9568078 (2500)\ttotal: 14.5s\tremaining: 43.5s\n",
            "2600:\tlearn: 5264.3698599\ttest: 5408.9765722\tbest: 5408.9765722 (2600)\ttotal: 15.3s\tremaining: 43.6s\n",
            "2700:\tlearn: 5245.4079599\ttest: 5396.4625846\tbest: 5396.4549775 (2699)\ttotal: 15.8s\tremaining: 42.7s\n",
            "2800:\tlearn: 5227.5423392\ttest: 5386.8763002\tbest: 5386.8103823 (2799)\ttotal: 16.2s\tremaining: 41.8s\n",
            "2900:\tlearn: 5213.8467935\ttest: 5380.0618435\tbest: 5380.0398138 (2899)\ttotal: 16.7s\tremaining: 41s\n",
            "3000:\tlearn: 5197.3049468\ttest: 5372.6804446\tbest: 5372.4048757 (2994)\ttotal: 17.5s\tremaining: 40.8s\n",
            "3100:\tlearn: 5180.0240473\ttest: 5364.0245709\tbest: 5364.0245709 (3100)\ttotal: 18s\tremaining: 40.1s\n",
            "3200:\tlearn: 5162.1415093\ttest: 5356.0557398\tbest: 5355.6758891 (3196)\ttotal: 18.7s\tremaining: 39.8s\n",
            "3300:\tlearn: 5146.1905876\ttest: 5348.8089570\tbest: 5348.8089570 (3300)\ttotal: 19.2s\tremaining: 39s\n",
            "3400:\tlearn: 5132.3032504\ttest: 5342.5913377\tbest: 5342.5913377 (3400)\ttotal: 19.7s\tremaining: 38.1s\n",
            "3500:\tlearn: 5118.3731797\ttest: 5335.3151013\tbest: 5335.3151013 (3500)\ttotal: 20.1s\tremaining: 37.4s\n",
            "3600:\tlearn: 5106.6204506\ttest: 5325.7385538\tbest: 5325.7385538 (3600)\ttotal: 20.6s\tremaining: 36.6s\n",
            "3700:\tlearn: 5091.9779559\ttest: 5316.6177451\tbest: 5316.4516519 (3681)\ttotal: 21s\tremaining: 35.8s\n",
            "3800:\tlearn: 5080.2588489\ttest: 5316.1784754\tbest: 5315.3799869 (3746)\ttotal: 21.5s\tremaining: 35.1s\n",
            "3900:\tlearn: 5069.1646527\ttest: 5311.3593961\tbest: 5311.3593961 (3900)\ttotal: 22s\tremaining: 34.4s\n",
            "4000:\tlearn: 5057.9265343\ttest: 5305.2632240\tbest: 5305.2632240 (4000)\ttotal: 22.5s\tremaining: 33.7s\n",
            "4100:\tlearn: 5043.4588238\ttest: 5297.6897028\tbest: 5297.6897028 (4100)\ttotal: 22.9s\tremaining: 33s\n",
            "4200:\tlearn: 5030.2685206\ttest: 5293.4985755\tbest: 5292.0932947 (4178)\ttotal: 23.4s\tremaining: 32.3s\n",
            "4300:\tlearn: 5021.0035390\ttest: 5289.4959553\tbest: 5289.4768727 (4299)\ttotal: 23.9s\tremaining: 31.7s\n",
            "4400:\tlearn: 5010.0813701\ttest: 5287.7410194\tbest: 5287.7410194 (4400)\ttotal: 24.4s\tremaining: 31s\n",
            "4500:\tlearn: 4999.6596241\ttest: 5283.3500450\tbest: 5283.3068730 (4482)\ttotal: 25.1s\tremaining: 30.7s\n",
            "4600:\tlearn: 4986.8272145\ttest: 5276.9198581\tbest: 5276.8168300 (4598)\ttotal: 26.1s\tremaining: 30.6s\n",
            "4700:\tlearn: 4977.9653704\ttest: 5273.5310997\tbest: 5273.5059558 (4695)\ttotal: 27.1s\tremaining: 30.5s\n",
            "4800:\tlearn: 4969.3008412\ttest: 5270.1382745\tbest: 5270.0637805 (4789)\ttotal: 28.2s\tremaining: 30.5s\n",
            "4900:\tlearn: 4960.3990333\ttest: 5266.5078207\tbest: 5266.5078207 (4900)\ttotal: 28.7s\tremaining: 29.8s\n",
            "5000:\tlearn: 4949.2435694\ttest: 5260.6186756\tbest: 5260.6081914 (4994)\ttotal: 29.2s\tremaining: 29.2s\n",
            "5100:\tlearn: 4941.4717898\ttest: 5258.3882563\tbest: 5258.3810759 (5099)\ttotal: 29.6s\tremaining: 28.4s\n",
            "5200:\tlearn: 4932.7732221\ttest: 5253.8970965\tbest: 5253.8970965 (5200)\ttotal: 30.1s\tremaining: 27.8s\n",
            "5300:\tlearn: 4924.5334241\ttest: 5252.9045395\tbest: 5252.2044441 (5286)\ttotal: 30.6s\tremaining: 27.1s\n",
            "5400:\tlearn: 4917.3672318\ttest: 5251.3157228\tbest: 5251.3157228 (5400)\ttotal: 31s\tremaining: 26.4s\n",
            "5500:\tlearn: 4910.0600112\ttest: 5249.1379248\tbest: 5249.1379248 (5500)\ttotal: 31.5s\tremaining: 25.8s\n",
            "5600:\tlearn: 4899.1780064\ttest: 5245.1004289\tbest: 5245.0959089 (5598)\ttotal: 32s\tremaining: 25.1s\n",
            "5700:\tlearn: 4892.2881176\ttest: 5244.1260646\tbest: 5243.7623959 (5681)\ttotal: 32.5s\tremaining: 24.5s\n",
            "5800:\tlearn: 4885.5335190\ttest: 5241.0090321\tbest: 5241.0090321 (5800)\ttotal: 32.9s\tremaining: 23.8s\n",
            "5900:\tlearn: 4876.7655913\ttest: 5236.5787767\tbest: 5236.5787767 (5900)\ttotal: 33.4s\tremaining: 23.2s\n",
            "6000:\tlearn: 4869.2536824\ttest: 5234.1350125\tbest: 5234.0256765 (5999)\ttotal: 33.9s\tremaining: 22.6s\n",
            "6100:\tlearn: 4861.8537387\ttest: 5231.9092018\tbest: 5231.8992933 (6062)\ttotal: 34.4s\tremaining: 22s\n",
            "6200:\tlearn: 4850.2104847\ttest: 5226.4421388\tbest: 5226.4421388 (6200)\ttotal: 34.8s\tremaining: 21.3s\n",
            "6300:\tlearn: 4841.2219642\ttest: 5222.5989584\tbest: 5222.5989584 (6300)\ttotal: 35.3s\tremaining: 20.7s\n",
            "6400:\tlearn: 4835.7145654\ttest: 5221.7506238\tbest: 5221.7410618 (6393)\ttotal: 35.9s\tremaining: 20.2s\n",
            "6500:\tlearn: 4828.1963219\ttest: 5217.3631766\tbest: 5217.3121065 (6499)\ttotal: 36.4s\tremaining: 19.6s\n",
            "6600:\tlearn: 4819.5216691\ttest: 5211.5356347\tbest: 5211.5157320 (6599)\ttotal: 36.8s\tremaining: 19s\n",
            "6700:\tlearn: 4812.0967381\ttest: 5209.4872223\tbest: 5209.4872223 (6700)\ttotal: 37.3s\tremaining: 18.4s\n",
            "6800:\tlearn: 4806.3947785\ttest: 5207.0016304\tbest: 5206.9003182 (6797)\ttotal: 37.8s\tremaining: 17.8s\n",
            "6900:\tlearn: 4801.4671810\ttest: 5204.8636375\tbest: 5204.8451875 (6888)\ttotal: 38.5s\tremaining: 17.3s\n",
            "7000:\tlearn: 4791.0424613\ttest: 5198.3162729\tbest: 5198.2591065 (6991)\ttotal: 39.6s\tremaining: 17s\n",
            "7100:\tlearn: 4785.2565702\ttest: 5196.9102235\tbest: 5196.7708164 (7094)\ttotal: 40.6s\tremaining: 16.6s\n",
            "7200:\tlearn: 4777.7762124\ttest: 5191.3257455\tbest: 5191.3257455 (7200)\ttotal: 41.5s\tremaining: 16.1s\n",
            "7300:\tlearn: 4772.2825680\ttest: 5189.4750598\tbest: 5189.4597104 (7298)\ttotal: 42s\tremaining: 15.5s\n",
            "7400:\tlearn: 4767.5699447\ttest: 5187.2309927\tbest: 5186.8839670 (7382)\ttotal: 42.4s\tremaining: 14.9s\n",
            "7500:\tlearn: 4760.8275188\ttest: 5184.5237474\tbest: 5184.4550322 (7490)\ttotal: 42.9s\tremaining: 14.3s\n",
            "7600:\tlearn: 4757.0485453\ttest: 5183.6766199\tbest: 5183.6766199 (7600)\ttotal: 43.4s\tremaining: 13.7s\n",
            "7700:\tlearn: 4750.7409308\ttest: 5182.3158618\tbest: 5181.8376869 (7682)\ttotal: 43.8s\tremaining: 13.1s\n",
            "7800:\tlearn: 4743.9283047\ttest: 5179.4054368\tbest: 5179.3932372 (7794)\ttotal: 44.3s\tremaining: 12.5s\n",
            "7900:\tlearn: 4738.6147920\ttest: 5178.3723187\tbest: 5177.9213716 (7858)\ttotal: 44.8s\tremaining: 11.9s\n",
            "8000:\tlearn: 4732.0287648\ttest: 5176.0922630\tbest: 5176.0519173 (7999)\ttotal: 45.3s\tremaining: 11.3s\n",
            "8100:\tlearn: 4727.0126404\ttest: 5174.6480974\tbest: 5174.6480974 (8100)\ttotal: 45.8s\tremaining: 10.7s\n",
            "8200:\tlearn: 4722.3970558\ttest: 5175.2319081\tbest: 5174.4891653 (8119)\ttotal: 46.3s\tremaining: 10.1s\n",
            "8300:\tlearn: 4714.6233430\ttest: 5172.3563238\tbest: 5172.0282058 (8299)\ttotal: 46.7s\tremaining: 9.56s\n",
            "8400:\tlearn: 4710.5095915\ttest: 5171.4909804\tbest: 5171.1528829 (8345)\ttotal: 47.2s\tremaining: 8.98s\n",
            "8500:\tlearn: 4701.7540406\ttest: 5165.2063014\tbest: 5164.7383006 (8478)\ttotal: 47.7s\tremaining: 8.41s\n",
            "8600:\tlearn: 4693.9993318\ttest: 5156.2112838\tbest: 5155.9412732 (8580)\ttotal: 48.2s\tremaining: 7.83s\n",
            "8700:\tlearn: 4687.8138451\ttest: 5156.3534345\tbest: 5154.9194024 (8656)\ttotal: 48.6s\tremaining: 7.26s\n",
            "Stopped by overfitting detector  (100 iterations wait)\n",
            "\n",
            "bestTest = 5154.919402\n",
            "bestIteration = 8656\n",
            "\n",
            "Shrink model to first 8657 iterations.\n"
          ]
        },
        {
          "output_type": "execute_result",
          "data": {
            "text/plain": [
              "<catboost.core.CatBoostRegressor at 0x7f37aeb7f040>"
            ]
          },
          "metadata": {},
          "execution_count": 61
        }
      ]
    },
    {
      "cell_type": "markdown",
      "source": [
        "## Глубина дерева для Отрисовки"
      ],
      "metadata": {
        "id": "jLx21WkiCuh8"
      }
    },
    {
      "cell_type": "code",
      "source": [
        "#@title Глубина дерева для Отрисовки{ run: \"auto\" }\n",
        "tree_idx=5 #@param {type:\"slider\", min:0, max:25, step:1}\n",
        "\n",
        "model_reg.plot_tree(tree_idx=tree_idx,\n",
        "                pool = train_data_reg)"
      ],
      "metadata": {
        "colab": {
          "base_uri": "https://localhost:8080/",
          "height": 448
        },
        "id": "hWKvvm6HCzo_",
        "outputId": "9f0cf3f9-b16c-490d-d2f6-6c41668fb84f"
      },
      "execution_count": 62,
      "outputs": [
        {
          "output_type": "execute_result",
          "data": {
            "image/svg+xml": "<?xml version=\"1.0\" encoding=\"UTF-8\" standalone=\"no\"?>\n<!DOCTYPE svg PUBLIC \"-//W3C//DTD SVG 1.1//EN\"\n \"http://www.w3.org/Graphics/SVG/1.1/DTD/svg11.dtd\">\n<!-- Generated by graphviz version 2.43.0 (0)\n -->\n<!-- Title: %3 Pages: 1 -->\n<svg width=\"1950pt\" height=\"305pt\"\n viewBox=\"0.00 0.00 1949.56 305.00\" xmlns=\"http://www.w3.org/2000/svg\" xmlns:xlink=\"http://www.w3.org/1999/xlink\">\n<g id=\"graph0\" class=\"graph\" transform=\"scale(1 1) rotate(0) translate(4 301)\">\n<title>%3</title>\n<polygon fill=\"white\" stroke=\"transparent\" points=\"-4,4 -4,-301 1945.56,-301 1945.56,4 -4,4\"/>\n<!-- 0 -->\n<g id=\"node1\" class=\"node\">\n<title>0</title>\n<ellipse fill=\"none\" stroke=\"black\" cx=\"960.28\" cy=\"-279\" rx=\"232.86\" ry=\"18\"/>\n<text text-anchor=\"middle\" x=\"960.28\" y=\"-275.3\" font-family=\"Times,serif\" font-size=\"14.00\">{Model} counter_type=Borders prior_numerator=1, value&gt;13</text>\n</g>\n<!-- 1 -->\n<g id=\"node2\" class=\"node\">\n<title>1</title>\n<ellipse fill=\"none\" stroke=\"black\" cx=\"698.28\" cy=\"-192\" rx=\"252.66\" ry=\"18\"/>\n<text text-anchor=\"middle\" x=\"698.28\" y=\"-188.3\" font-family=\"Times,serif\" font-size=\"14.00\">{Transmission} counter_type=Borders prior_numerator=0, value&gt;6</text>\n</g>\n<!-- 0&#45;&gt;1 -->\n<g id=\"edge1\" class=\"edge\">\n<title>0&#45;&gt;1</title>\n<path fill=\"none\" stroke=\"black\" d=\"M909.14,-261.41C866.27,-247.5 804.95,-227.61 759.48,-212.85\"/>\n<polygon fill=\"black\" stroke=\"black\" points=\"760.33,-209.45 749.74,-209.69 758.17,-216.11 760.33,-209.45\"/>\n<text text-anchor=\"middle\" x=\"853.78\" y=\"-231.8\" font-family=\"Times,serif\" font-size=\"14.00\">No</text>\n</g>\n<!-- 2 -->\n<g id=\"node3\" class=\"node\">\n<title>2</title>\n<ellipse fill=\"none\" stroke=\"black\" cx=\"1222.28\" cy=\"-192\" rx=\"252.66\" ry=\"18\"/>\n<text text-anchor=\"middle\" x=\"1222.28\" y=\"-188.3\" font-family=\"Times,serif\" font-size=\"14.00\">{Transmission} counter_type=Borders prior_numerator=0, value&gt;6</text>\n</g>\n<!-- 0&#45;&gt;2 -->\n<g id=\"edge2\" class=\"edge\">\n<title>0&#45;&gt;2</title>\n<path fill=\"none\" stroke=\"black\" d=\"M1011.42,-261.41C1054.29,-247.5 1115.61,-227.61 1161.08,-212.85\"/>\n<polygon fill=\"black\" stroke=\"black\" points=\"1162.39,-216.11 1170.82,-209.69 1160.23,-209.45 1162.39,-216.11\"/>\n<text text-anchor=\"middle\" x=\"1117.78\" y=\"-231.8\" font-family=\"Times,serif\" font-size=\"14.00\">Yes</text>\n</g>\n<!-- 3 -->\n<g id=\"node4\" class=\"node\">\n<title>3</title>\n<ellipse fill=\"none\" stroke=\"black\" cx=\"235.28\" cy=\"-105\" rx=\"235.06\" ry=\"18\"/>\n<text text-anchor=\"middle\" x=\"235.28\" y=\"-101.3\" font-family=\"Times,serif\" font-size=\"14.00\">{Model} counter_type=Borders prior_numerator=0.5, value&gt;8</text>\n</g>\n<!-- 1&#45;&gt;3 -->\n<g id=\"edge3\" class=\"edge\">\n<title>1&#45;&gt;3</title>\n<path fill=\"none\" stroke=\"black\" d=\"M611.46,-175.06C531.7,-160.42 413.69,-138.75 331.18,-123.61\"/>\n<polygon fill=\"black\" stroke=\"black\" points=\"331.76,-120.15 321.3,-121.79 330.5,-127.04 331.76,-120.15\"/>\n<text text-anchor=\"middle\" x=\"503.78\" y=\"-144.8\" font-family=\"Times,serif\" font-size=\"14.00\">No</text>\n</g>\n<!-- 4 -->\n<g id=\"node5\" class=\"node\">\n<title>4</title>\n<ellipse fill=\"none\" stroke=\"black\" cx=\"724.28\" cy=\"-105\" rx=\"235.06\" ry=\"18\"/>\n<text text-anchor=\"middle\" x=\"724.28\" y=\"-101.3\" font-family=\"Times,serif\" font-size=\"14.00\">{Model} counter_type=Borders prior_numerator=0.5, value&gt;8</text>\n</g>\n<!-- 1&#45;&gt;4 -->\n<g id=\"edge4\" class=\"edge\">\n<title>1&#45;&gt;4</title>\n<path fill=\"none\" stroke=\"black\" d=\"M703.54,-173.8C707.14,-162.05 711.97,-146.24 716.07,-132.84\"/>\n<polygon fill=\"black\" stroke=\"black\" points=\"719.45,-133.76 719.03,-123.18 712.75,-131.71 719.45,-133.76\"/>\n<text text-anchor=\"middle\" x=\"723.78\" y=\"-144.8\" font-family=\"Times,serif\" font-size=\"14.00\">Yes</text>\n</g>\n<!-- 5 -->\n<g id=\"node6\" class=\"node\">\n<title>5</title>\n<ellipse fill=\"none\" stroke=\"black\" cx=\"1217.28\" cy=\"-105\" rx=\"235.06\" ry=\"18\"/>\n<text text-anchor=\"middle\" x=\"1217.28\" y=\"-101.3\" font-family=\"Times,serif\" font-size=\"14.00\">{Model} counter_type=Borders prior_numerator=0.5, value&gt;8</text>\n</g>\n<!-- 2&#45;&gt;5 -->\n<g id=\"edge5\" class=\"edge\">\n<title>2&#45;&gt;5</title>\n<path fill=\"none\" stroke=\"black\" d=\"M1221.27,-173.8C1220.58,-162.16 1219.66,-146.55 1218.88,-133.24\"/>\n<polygon fill=\"black\" stroke=\"black\" points=\"1222.37,-132.95 1218.29,-123.18 1215.38,-133.36 1222.37,-132.95\"/>\n<text text-anchor=\"middle\" x=\"1228.78\" y=\"-144.8\" font-family=\"Times,serif\" font-size=\"14.00\">No</text>\n</g>\n<!-- 6 -->\n<g id=\"node7\" class=\"node\">\n<title>6</title>\n<ellipse fill=\"none\" stroke=\"black\" cx=\"1706.28\" cy=\"-105\" rx=\"235.06\" ry=\"18\"/>\n<text text-anchor=\"middle\" x=\"1706.28\" y=\"-101.3\" font-family=\"Times,serif\" font-size=\"14.00\">{Model} counter_type=Borders prior_numerator=0.5, value&gt;8</text>\n</g>\n<!-- 2&#45;&gt;6 -->\n<g id=\"edge6\" class=\"edge\">\n<title>2&#45;&gt;6</title>\n<path fill=\"none\" stroke=\"black\" d=\"M1312.46,-175.16C1396.12,-160.47 1520.39,-138.65 1606.87,-123.46\"/>\n<polygon fill=\"black\" stroke=\"black\" points=\"1607.72,-126.86 1616.97,-121.69 1606.51,-119.97 1607.72,-126.86\"/>\n<text text-anchor=\"middle\" x=\"1503.78\" y=\"-144.8\" font-family=\"Times,serif\" font-size=\"14.00\">Yes</text>\n</g>\n<!-- 7 -->\n<g id=\"node8\" class=\"node\">\n<title>7</title>\n<polygon fill=\"none\" stroke=\"red\" points=\"229.28,-36 131.28,-36 131.28,0 229.28,0 229.28,-36\"/>\n<text text-anchor=\"middle\" x=\"180.28\" y=\"-14.3\" font-family=\"Times,serif\" font-size=\"14.00\">val = &#45;215.816</text>\n</g>\n<!-- 3&#45;&gt;7 -->\n<g id=\"edge7\" class=\"edge\">\n<title>3&#45;&gt;7</title>\n<path fill=\"none\" stroke=\"black\" d=\"M224.15,-86.8C216.32,-74.7 205.71,-58.3 196.89,-44.67\"/>\n<polygon fill=\"black\" stroke=\"black\" points=\"199.76,-42.67 191.39,-36.18 193.89,-46.47 199.76,-42.67\"/>\n<text text-anchor=\"middle\" x=\"219.78\" y=\"-57.8\" font-family=\"Times,serif\" font-size=\"14.00\">No</text>\n</g>\n<!-- 8 -->\n<g id=\"node9\" class=\"node\">\n<title>8</title>\n<polygon fill=\"none\" stroke=\"red\" points=\"333.28,-36 247.28,-36 247.28,0 333.28,0 333.28,-36\"/>\n<text text-anchor=\"middle\" x=\"290.28\" y=\"-14.3\" font-family=\"Times,serif\" font-size=\"14.00\">val = 21.334</text>\n</g>\n<!-- 3&#45;&gt;8 -->\n<g id=\"edge8\" class=\"edge\">\n<title>3&#45;&gt;8</title>\n<path fill=\"none\" stroke=\"black\" d=\"M246.41,-86.8C254.24,-74.7 264.85,-58.3 273.67,-44.67\"/>\n<polygon fill=\"black\" stroke=\"black\" points=\"276.67,-46.47 279.17,-36.18 270.79,-42.67 276.67,-46.47\"/>\n<text text-anchor=\"middle\" x=\"276.78\" y=\"-57.8\" font-family=\"Times,serif\" font-size=\"14.00\">Yes</text>\n</g>\n<!-- 9 -->\n<g id=\"node10\" class=\"node\">\n<title>9</title>\n<polygon fill=\"none\" stroke=\"red\" points=\"715.78,-36 624.78,-36 624.78,0 715.78,0 715.78,-36\"/>\n<text text-anchor=\"middle\" x=\"670.28\" y=\"-14.3\" font-family=\"Times,serif\" font-size=\"14.00\">val = &#45;92.869</text>\n</g>\n<!-- 4&#45;&gt;9 -->\n<g id=\"edge9\" class=\"edge\">\n<title>4&#45;&gt;9</title>\n<path fill=\"none\" stroke=\"black\" d=\"M713.35,-86.8C705.67,-74.7 695.25,-58.3 686.58,-44.67\"/>\n<polygon fill=\"black\" stroke=\"black\" points=\"689.51,-42.74 681.19,-36.18 683.6,-46.49 689.51,-42.74\"/>\n<text text-anchor=\"middle\" x=\"709.78\" y=\"-57.8\" font-family=\"Times,serif\" font-size=\"14.00\">No</text>\n</g>\n<!-- 10 -->\n<g id=\"node11\" class=\"node\">\n<title>10</title>\n<polygon fill=\"none\" stroke=\"red\" points=\"820.28,-36 734.28,-36 734.28,0 820.28,0 820.28,-36\"/>\n<text text-anchor=\"middle\" x=\"777.28\" y=\"-14.3\" font-family=\"Times,serif\" font-size=\"14.00\">val = 69.348</text>\n</g>\n<!-- 4&#45;&gt;10 -->\n<g id=\"edge10\" class=\"edge\">\n<title>4&#45;&gt;10</title>\n<path fill=\"none\" stroke=\"black\" d=\"M735,-86.8C742.55,-74.7 752.77,-58.3 761.28,-44.67\"/>\n<polygon fill=\"black\" stroke=\"black\" points=\"764.25,-46.51 766.57,-36.18 758.31,-42.81 764.25,-46.51\"/>\n<text text-anchor=\"middle\" x=\"764.78\" y=\"-57.8\" font-family=\"Times,serif\" font-size=\"14.00\">Yes</text>\n</g>\n<!-- 11 -->\n<g id=\"node12\" class=\"node\">\n<title>11</title>\n<polygon fill=\"none\" stroke=\"red\" points=\"1209.28,-36 1111.28,-36 1111.28,0 1209.28,0 1209.28,-36\"/>\n<text text-anchor=\"middle\" x=\"1160.28\" y=\"-14.3\" font-family=\"Times,serif\" font-size=\"14.00\">val = &#45;244.166</text>\n</g>\n<!-- 5&#45;&gt;11 -->\n<g id=\"edge11\" class=\"edge\">\n<title>5&#45;&gt;11</title>\n<path fill=\"none\" stroke=\"black\" d=\"M1205.74,-86.8C1197.63,-74.7 1186.64,-58.3 1177.49,-44.67\"/>\n<polygon fill=\"black\" stroke=\"black\" points=\"1180.27,-42.53 1171.8,-36.18 1174.46,-46.43 1180.27,-42.53\"/>\n<text text-anchor=\"middle\" x=\"1200.78\" y=\"-57.8\" font-family=\"Times,serif\" font-size=\"14.00\">No</text>\n</g>\n<!-- 12 -->\n<g id=\"node13\" class=\"node\">\n<title>12</title>\n<polygon fill=\"none\" stroke=\"red\" points=\"1320.78,-36 1227.78,-36 1227.78,0 1320.78,0 1320.78,-36\"/>\n<text text-anchor=\"middle\" x=\"1274.28\" y=\"-14.3\" font-family=\"Times,serif\" font-size=\"14.00\">val = 245.241</text>\n</g>\n<!-- 5&#45;&gt;12 -->\n<g id=\"edge12\" class=\"edge\">\n<title>5&#45;&gt;12</title>\n<path fill=\"none\" stroke=\"black\" d=\"M1228.81,-86.8C1236.93,-74.7 1247.92,-58.3 1257.07,-44.67\"/>\n<polygon fill=\"black\" stroke=\"black\" points=\"1260.1,-46.43 1262.76,-36.18 1254.28,-42.53 1260.1,-46.43\"/>\n<text text-anchor=\"middle\" x=\"1259.78\" y=\"-57.8\" font-family=\"Times,serif\" font-size=\"14.00\">Yes</text>\n</g>\n<!-- 13 -->\n<g id=\"node14\" class=\"node\">\n<title>13</title>\n<polygon fill=\"none\" stroke=\"red\" points=\"1696.78,-36 1603.78,-36 1603.78,0 1696.78,0 1696.78,-36\"/>\n<text text-anchor=\"middle\" x=\"1650.28\" y=\"-14.3\" font-family=\"Times,serif\" font-size=\"14.00\">val = 157.470</text>\n</g>\n<!-- 6&#45;&gt;13 -->\n<g id=\"edge13\" class=\"edge\">\n<title>6&#45;&gt;13</title>\n<path fill=\"none\" stroke=\"black\" d=\"M1694.95,-86.8C1686.98,-74.7 1676.17,-58.3 1667.19,-44.67\"/>\n<polygon fill=\"black\" stroke=\"black\" points=\"1670.02,-42.6 1661.59,-36.18 1664.17,-46.45 1670.02,-42.6\"/>\n<text text-anchor=\"middle\" x=\"1690.78\" y=\"-57.8\" font-family=\"Times,serif\" font-size=\"14.00\">No</text>\n</g>\n<!-- 14 -->\n<g id=\"node15\" class=\"node\">\n<title>14</title>\n<polygon fill=\"none\" stroke=\"red\" points=\"1807.78,-36 1714.78,-36 1714.78,0 1807.78,0 1807.78,-36\"/>\n<text text-anchor=\"middle\" x=\"1761.28\" y=\"-14.3\" font-family=\"Times,serif\" font-size=\"14.00\">val = 397.611</text>\n</g>\n<!-- 6&#45;&gt;14 -->\n<g id=\"edge14\" class=\"edge\">\n<title>6&#45;&gt;14</title>\n<path fill=\"none\" stroke=\"black\" d=\"M1717.41,-86.8C1725.24,-74.7 1735.85,-58.3 1744.67,-44.67\"/>\n<polygon fill=\"black\" stroke=\"black\" points=\"1747.67,-46.47 1750.17,-36.18 1741.79,-42.67 1747.67,-46.47\"/>\n<text text-anchor=\"middle\" x=\"1746.78\" y=\"-57.8\" font-family=\"Times,serif\" font-size=\"14.00\">Yes</text>\n</g>\n</g>\n</svg>\n",
            "text/plain": [
              "<graphviz.graphs.Digraph at 0x7f37aeb7eef0>"
            ]
          },
          "metadata": {},
          "execution_count": 62
        }
      ]
    },
    {
      "cell_type": "code",
      "source": [
        "results = model_reg.evals_result_"
      ],
      "metadata": {
        "id": "7GWc0QHwC4W0"
      },
      "execution_count": 63,
      "outputs": []
    },
    {
      "cell_type": "code",
      "source": [
        "plt.figure(figsize=(10,7))\n",
        "plt.plot(results[\"learn\"][\"MAE\"], label=\"Метрика на Тренировочных данных\")\n",
        "plt.plot(results[\"validation\"][\"MAE\"], label=\"Метрика на Валидационных данных\")\n",
        "plt.xlabel(\"Количество Деревьев\")\n",
        "plt.ylabel(\"Метрика\")\n",
        "plt.legend();"
      ],
      "metadata": {
        "colab": {
          "base_uri": "https://localhost:8080/",
          "height": 619
        },
        "id": "DMkVl-2bC6HS",
        "outputId": "6f3b15b2-a8e8-48c6-d1f0-ed646e1559b8"
      },
      "execution_count": 64,
      "outputs": [
        {
          "output_type": "display_data",
          "data": {
            "text/plain": [
              "<Figure size 1000x700 with 1 Axes>"
            ],
            "image/png": "[encoded data removed]"
          },
          "metadata": {}
        }
      ]
    },
    {
      "cell_type": "markdown",
      "source": [
        "## Визуализация значимости признаков"
      ],
      "metadata": {
        "id": "Hzpp3kpPDBUw"
      }
    },
    {
      "cell_type": "code",
      "source": [
        "def feature_importance_plotter(model, features_names):\n",
        "    \"\"\"Отрисовка значимости признаков в виде горизонтальных столбчатых диаграмм.\n",
        "    Параметры:\n",
        "    ===========\n",
        "    model: модель\n",
        "    features_names: список имен признаков\n",
        "    \"\"\"\n",
        "    feature_importance = model.feature_importances_\n",
        "\n",
        "    sorted = np.argsort(feature_importance)\n",
        "\n",
        "    ypos = np.arange(len(features_names))\n",
        "\n",
        "    fig= plt.figure(figsize=(8,4))\n",
        "    plt.barh(ypos, feature_importance[sorted])\n",
        "    #plt.xlim([0,1])\n",
        "    plt.ylabel('Параметры')\n",
        "    plt.xlabel('Значимость')\n",
        "    plt.yticks(ypos,features_names[sorted] );"
      ],
      "metadata": {
        "id": "sOVxlEYwDCXk"
      },
      "execution_count": 65,
      "outputs": []
    },
    {
      "cell_type": "code",
      "source": [
        "feature_importance_plotter(model_reg, np.array(features_names))"
      ],
      "metadata": {
        "colab": {
          "base_uri": "https://localhost:8080/",
          "height": 388
        },
        "id": "o-XH3AhcDFTh",
        "outputId": "2bcd739a-74db-4118-e241-66c58d6220c9"
      },
      "execution_count": 66,
      "outputs": [
        {
          "output_type": "display_data",
          "data": {
            "text/plain": [
              "<Figure size 800x400 with 1 Axes>"
            ],
            "image/png": "[encoded data removed]"
          },
          "metadata": {}
        }
      ]
    },
    {
      "cell_type": "markdown",
      "source": [
        "## Оценка метрик"
      ],
      "metadata": {
        "id": "omFaxsZpDM2W"
      }
    },
    {
      "cell_type": "code",
      "source": [
        "def calculate_metric(model_pipe, X, y, metric = r2_score):\n",
        "    \"\"\"Расчет метрики.\n",
        "    Параметры:\n",
        "    ===========\n",
        "    model_pipe: модель или pipeline\n",
        "    X: признаки\n",
        "    y: истинные значения\n",
        "    metric: метрика (r2 - по умолчанию)\n",
        "    \"\"\"\n",
        "    y_model = model_pipe.predict(X)\n",
        "    return metric(y, y_model)"
      ],
      "metadata": {
        "id": "xkNGzbIHDOA3"
      },
      "execution_count": 67,
      "outputs": []
    },
    {
      "cell_type": "code",
      "source": [
        "print(f\"r2 на тренировочной выборке: {calculate_metric(model_reg, train_data_reg, y_train):.4f}\")\n",
        "print(f\"r2 на валидационной выборке: {calculate_metric(model_reg, eval_data_reg, y_val):.4f}\")\n",
        "\n",
        "print(f\"mse на тренировочной выборке: {calculate_metric(model_reg, train_data_reg, y_train, mse):.4f}\")\n",
        "print(f\"mse на валидационной выборке: {calculate_metric(model_reg, eval_data_reg, y_val, mse):.4f}\")"
      ],
      "metadata": {
        "colab": {
          "base_uri": "https://localhost:8080/"
        },
        "id": "ktEH45HZDPtZ",
        "outputId": "ddfce335-de6d-471b-8e2f-7a6717657cb1"
      },
      "execution_count": 68,
      "outputs": [
        {
          "output_type": "stream",
          "name": "stdout",
          "text": [
            "r2 на тренировочной выборке: 0.5998\n",
            "r2 на валидационной выборке: 0.5470\n",
            "mse на тренировочной выборке: 170925719.1020\n",
            "mse на валидационной выборке: 202360333.9219\n"
          ]
        }
      ]
    },
    {
      "cell_type": "markdown",
      "source": [
        "## Кросс-валидация"
      ],
      "metadata": {
        "id": "8GvmuLuPDSVO"
      }
    },
    {
      "cell_type": "code",
      "source": [
        "def cross_validation (X, y, model, scoring, cv_rule):\n",
        "    \"\"\"Расчет метрик на кросс-валидации.\n",
        "    Параметры:\n",
        "    ===========\n",
        "    model: модель или pipeline\n",
        "    X: признаки\n",
        "    y: истинные значения\n",
        "    scoring: словарь метрик\n",
        "    cv_rule: правило кросс-валидации\n",
        "    \"\"\"\n",
        "    scores = cross_validate(model,X, y,\n",
        "                      scoring=scoring, cv=cv_rule )\n",
        "    print('Ошибка на кросс-валидации')\n",
        "    DF_score = pd.DataFrame(scores)\n",
        "    display(DF_score)\n",
        "    print('\\n')\n",
        "    print(DF_score.mean()[2:])"
      ],
      "metadata": {
        "id": "ABH4nAurDTlM"
      },
      "execution_count": 69,
      "outputs": []
    },
    {
      "cell_type": "code",
      "source": [
        "scoring_reg = {'R2': 'r2',\n",
        "           '-MSE': 'neg_mean_squared_error',\n",
        "           '-MAE': 'neg_mean_absolute_error',\n",
        "           '-Max': 'max_error'}"
      ],
      "metadata": {
        "id": "RgjGLD9KDVmU"
      },
      "execution_count": 70,
      "outputs": []
    },
    {
      "cell_type": "code",
      "source": [
        "cross_validation (X_train, y_train,\n",
        "                  model_reg,\n",
        "                  scoring_reg,\n",
        "                  ShuffleSplit(n_splits=5, random_state = 42))"
      ],
      "metadata": {
        "colab": {
          "base_uri": "https://localhost:8080/",
          "height": 1000
        },
        "id": "jOY0a6sDDX-X",
        "outputId": "9ba68320-2ae9-4282-d1ed-800d6b8e6fb8"
      },
      "execution_count": 71,
      "outputs": [
        {
          "output_type": "stream",
          "name": "stdout",
          "text": [
            "0:\tlearn: 11981.6486193\ttotal: 21.3ms\tremaining: 3m 33s\n",
            "100:\tlearn: 7131.8210949\ttotal: 1.21s\tremaining: 1m 58s\n",
            "200:\tlearn: 6653.1869008\ttotal: 1.82s\tremaining: 1m 28s\n",
            "300:\tlearn: 6501.7727066\ttotal: 2.63s\tremaining: 1m 24s\n",
            "400:\tlearn: 6340.0058237\ttotal: 3.46s\tremaining: 1m 22s\n",
            "500:\tlearn: 6205.9482063\ttotal: 4.24s\tremaining: 1m 20s\n",
            "600:\tlearn: 6109.6583772\ttotal: 5.04s\tremaining: 1m 18s\n",
            "700:\tlearn: 6028.9500149\ttotal: 5.71s\tremaining: 1m 15s\n",
            "800:\tlearn: 5967.0714828\ttotal: 6.08s\tremaining: 1m 9s\n",
            "900:\tlearn: 5903.3552258\ttotal: 6.46s\tremaining: 1m 5s\n",
            "1000:\tlearn: 5854.8742732\ttotal: 6.83s\tremaining: 1m 1s\n",
            "1100:\tlearn: 5808.5333562\ttotal: 7.2s\tremaining: 58.2s\n",
            "1200:\tlearn: 5768.6814034\ttotal: 7.59s\tremaining: 55.6s\n",
            "1300:\tlearn: 5727.1458113\ttotal: 7.98s\tremaining: 53.4s\n",
            "1400:\tlearn: 5695.1643138\ttotal: 8.38s\tremaining: 51.4s\n",
            "1500:\tlearn: 5660.9922254\ttotal: 8.76s\tremaining: 49.6s\n",
            "1600:\tlearn: 5634.5006331\ttotal: 9.14s\tremaining: 47.9s\n",
            "1700:\tlearn: 5603.0988564\ttotal: 9.54s\tremaining: 46.6s\n",
            "1800:\tlearn: 5572.3812944\ttotal: 9.95s\tremaining: 45.3s\n",
            "1900:\tlearn: 5544.0451644\ttotal: 10.4s\tremaining: 44.1s\n",
            "2000:\tlearn: 5519.3109351\ttotal: 10.8s\tremaining: 43.1s\n",
            "2100:\tlearn: 5494.1688079\ttotal: 11.2s\tremaining: 42s\n",
            "2200:\tlearn: 5471.9048128\ttotal: 11.6s\tremaining: 41s\n",
            "2300:\tlearn: 5449.3229827\ttotal: 12s\tremaining: 40.1s\n",
            "2400:\tlearn: 5429.0330681\ttotal: 12.4s\tremaining: 39.2s\n",
            "2500:\tlearn: 5411.0532015\ttotal: 12.8s\tremaining: 38.3s\n",
            "2600:\tlearn: 5393.3367012\ttotal: 13.2s\tremaining: 37.5s\n",
            "2700:\tlearn: 5374.7940573\ttotal: 13.6s\tremaining: 36.8s\n",
            "2800:\tlearn: 5354.2616690\ttotal: 14s\tremaining: 36s\n",
            "2900:\tlearn: 5337.2146198\ttotal: 14.4s\tremaining: 35.3s\n",
            "3000:\tlearn: 5322.5196057\ttotal: 14.8s\tremaining: 34.5s\n",
            "3100:\tlearn: 5302.6819768\ttotal: 15.2s\tremaining: 33.8s\n",
            "3200:\tlearn: 5286.7540498\ttotal: 15.9s\tremaining: 33.7s\n",
            "3300:\tlearn: 5271.7132948\ttotal: 16.8s\tremaining: 34s\n",
            "3400:\tlearn: 5254.1415526\ttotal: 17.6s\tremaining: 34.1s\n",
            "3500:\tlearn: 5240.2811516\ttotal: 18.4s\tremaining: 34.2s\n",
            "3600:\tlearn: 5228.2253115\ttotal: 19.2s\tremaining: 34.1s\n",
            "3700:\tlearn: 5208.0619118\ttotal: 19.6s\tremaining: 33.3s\n",
            "3800:\tlearn: 5197.7739677\ttotal: 20s\tremaining: 32.6s\n",
            "3900:\tlearn: 5181.6453692\ttotal: 20.4s\tremaining: 31.9s\n",
            "4000:\tlearn: 5168.4187641\ttotal: 20.8s\tremaining: 31.2s\n",
            "4100:\tlearn: 5157.1591440\ttotal: 21.2s\tremaining: 30.6s\n",
            "4200:\tlearn: 5146.8042171\ttotal: 21.7s\tremaining: 29.9s\n",
            "4300:\tlearn: 5131.0318163\ttotal: 22.1s\tremaining: 29.2s\n",
            "4400:\tlearn: 5122.3187558\ttotal: 22.5s\tremaining: 28.6s\n",
            "4500:\tlearn: 5112.5909736\ttotal: 22.9s\tremaining: 28s\n",
            "4600:\tlearn: 5101.9059702\ttotal: 23.3s\tremaining: 27.4s\n",
            "4700:\tlearn: 5088.0712928\ttotal: 23.8s\tremaining: 26.8s\n",
            "4800:\tlearn: 5075.7517889\ttotal: 24.2s\tremaining: 26.2s\n",
            "4900:\tlearn: 5063.8630043\ttotal: 24.6s\tremaining: 25.6s\n",
            "5000:\tlearn: 5057.0952716\ttotal: 25s\tremaining: 25s\n",
            "5100:\tlearn: 5047.6918326\ttotal: 25.4s\tremaining: 24.4s\n",
            "5200:\tlearn: 5039.5183783\ttotal: 25.8s\tremaining: 23.8s\n",
            "5300:\tlearn: 5029.2519492\ttotal: 26.2s\tremaining: 23.3s\n",
            "5400:\tlearn: 5019.1878949\ttotal: 26.7s\tremaining: 22.7s\n",
            "5500:\tlearn: 5008.4552427\ttotal: 27s\tremaining: 22.1s\n",
            "5600:\tlearn: 5001.9554898\ttotal: 27.5s\tremaining: 21.6s\n",
            "5700:\tlearn: 4991.3855294\ttotal: 27.9s\tremaining: 21s\n",
            "5800:\tlearn: 4980.6385619\ttotal: 28.3s\tremaining: 20.5s\n",
            "5900:\tlearn: 4971.9551291\ttotal: 28.7s\tremaining: 20s\n",
            "6000:\tlearn: 4964.7424932\ttotal: 29.5s\tremaining: 19.6s\n",
            "6100:\tlearn: 4956.4567896\ttotal: 30.3s\tremaining: 19.4s\n",
            "6200:\tlearn: 4947.2085605\ttotal: 31.4s\tremaining: 19.2s\n",
            "6300:\tlearn: 4939.6778818\ttotal: 32.8s\tremaining: 19.3s\n",
            "6400:\tlearn: 4932.8572426\ttotal: 33.8s\tremaining: 19s\n",
            "6500:\tlearn: 4925.7476505\ttotal: 34.7s\tremaining: 18.7s\n",
            "6600:\tlearn: 4918.6665287\ttotal: 35.2s\tremaining: 18.1s\n",
            "6700:\tlearn: 4910.3686774\ttotal: 35.6s\tremaining: 17.5s\n",
            "6800:\tlearn: 4899.7318738\ttotal: 36.4s\tremaining: 17.1s\n",
            "6900:\tlearn: 4892.9874572\ttotal: 37.3s\tremaining: 16.8s\n",
            "7000:\tlearn: 4887.1852423\ttotal: 38.9s\tremaining: 16.7s\n",
            "7100:\tlearn: 4877.3854651\ttotal: 40.4s\tremaining: 16.5s\n",
            "7200:\tlearn: 4871.1853483\ttotal: 41.4s\tremaining: 16.1s\n",
            "7300:\tlearn: 4866.2412589\ttotal: 42.5s\tremaining: 15.7s\n",
            "7400:\tlearn: 4860.9099272\ttotal: 44.5s\tremaining: 15.6s\n",
            "7500:\tlearn: 4851.5553573\ttotal: 46.4s\tremaining: 15.5s\n",
            "7600:\tlearn: 4845.2116929\ttotal: 47.1s\tremaining: 14.9s\n",
            "7700:\tlearn: 4837.5009067\ttotal: 47.5s\tremaining: 14.2s\n",
            "7800:\tlearn: 4833.2303620\ttotal: 47.9s\tremaining: 13.5s\n",
            "7900:\tlearn: 4828.1731074\ttotal: 48.3s\tremaining: 12.8s\n",
            "8000:\tlearn: 4820.1306837\ttotal: 48.8s\tremaining: 12.2s\n",
            "8100:\tlearn: 4813.6751197\ttotal: 49.2s\tremaining: 11.5s\n",
            "8200:\tlearn: 4806.8068331\ttotal: 49.6s\tremaining: 10.9s\n",
            "8300:\tlearn: 4801.4647980\ttotal: 50s\tremaining: 10.2s\n",
            "8400:\tlearn: 4795.5176246\ttotal: 50.4s\tremaining: 9.6s\n",
            "8500:\tlearn: 4789.5817103\ttotal: 50.8s\tremaining: 8.96s\n",
            "8600:\tlearn: 4786.7902190\ttotal: 51.2s\tremaining: 8.33s\n",
            "8700:\tlearn: 4779.7073075\ttotal: 51.6s\tremaining: 7.71s\n",
            "8800:\tlearn: 4773.3252003\ttotal: 52s\tremaining: 7.09s\n",
            "8900:\tlearn: 4764.1752647\ttotal: 52.5s\tremaining: 6.48s\n",
            "9000:\tlearn: 4759.7695808\ttotal: 52.9s\tremaining: 5.87s\n",
            "9100:\tlearn: 4752.9369866\ttotal: 53.3s\tremaining: 5.26s\n",
            "9200:\tlearn: 4748.6601446\ttotal: 53.7s\tremaining: 4.66s\n",
            "9300:\tlearn: 4742.2813354\ttotal: 54.1s\tremaining: 4.07s\n",
            "9400:\tlearn: 4737.0723302\ttotal: 54.5s\tremaining: 3.47s\n",
            "9500:\tlearn: 4731.7546508\ttotal: 54.9s\tremaining: 2.88s\n",
            "9600:\tlearn: 4727.3997106\ttotal: 55.4s\tremaining: 2.3s\n",
            "9700:\tlearn: 4721.7757187\ttotal: 55.8s\tremaining: 1.72s\n",
            "9800:\tlearn: 4715.9821298\ttotal: 56.2s\tremaining: 1.14s\n",
            "9900:\tlearn: 4711.5045467\ttotal: 56.6s\tremaining: 566ms\n",
            "9999:\tlearn: 4707.6098338\ttotal: 57.3s\tremaining: 0us\n",
            "0:\tlearn: 12061.9893255\ttotal: 8.09ms\tremaining: 1m 20s\n",
            "100:\tlearn: 7235.8398620\ttotal: 831ms\tremaining: 1m 21s\n",
            "200:\tlearn: 6726.2368690\ttotal: 1.63s\tremaining: 1m 19s\n",
            "300:\tlearn: 6553.8682478\ttotal: 2.59s\tremaining: 1m 23s\n",
            "400:\tlearn: 6406.2454619\ttotal: 3.04s\tremaining: 1m 12s\n",
            "500:\tlearn: 6277.5089841\ttotal: 3.39s\tremaining: 1m 4s\n",
            "600:\tlearn: 6191.6602635\ttotal: 3.77s\tremaining: 58.9s\n",
            "700:\tlearn: 6108.6182601\ttotal: 4.15s\tremaining: 55s\n",
            "800:\tlearn: 6040.2990483\ttotal: 4.53s\tremaining: 52s\n",
            "900:\tlearn: 5973.7585503\ttotal: 4.93s\tremaining: 49.8s\n",
            "1000:\tlearn: 5920.1696201\ttotal: 5.31s\tremaining: 47.8s\n",
            "1100:\tlearn: 5853.2292677\ttotal: 5.71s\tremaining: 46.1s\n",
            "1200:\tlearn: 5807.2654025\ttotal: 6.09s\tremaining: 44.6s\n",
            "1300:\tlearn: 5765.5334070\ttotal: 6.46s\tremaining: 43.2s\n",
            "1400:\tlearn: 5723.3341484\ttotal: 6.86s\tremaining: 42.1s\n",
            "1500:\tlearn: 5688.0725136\ttotal: 7.24s\tremaining: 41s\n",
            "1600:\tlearn: 5659.2109516\ttotal: 7.64s\tremaining: 40.1s\n",
            "1700:\tlearn: 5626.8314700\ttotal: 8.03s\tremaining: 39.2s\n",
            "1800:\tlearn: 5595.4363316\ttotal: 8.41s\tremaining: 38.3s\n",
            "1900:\tlearn: 5565.8011210\ttotal: 8.82s\tremaining: 37.6s\n",
            "2000:\tlearn: 5540.6033012\ttotal: 9.23s\tremaining: 36.9s\n",
            "2100:\tlearn: 5519.2812208\ttotal: 9.62s\tremaining: 36.2s\n",
            "2200:\tlearn: 5495.7007592\ttotal: 10s\tremaining: 35.5s\n",
            "2300:\tlearn: 5478.7969083\ttotal: 10.4s\tremaining: 34.9s\n",
            "2400:\tlearn: 5457.9669407\ttotal: 10.8s\tremaining: 34.3s\n",
            "2500:\tlearn: 5437.7787550\ttotal: 11.2s\tremaining: 33.7s\n",
            "2600:\tlearn: 5412.9548770\ttotal: 11.7s\tremaining: 33.2s\n",
            "2700:\tlearn: 5395.2908539\ttotal: 12.1s\tremaining: 32.6s\n",
            "2800:\tlearn: 5375.1374346\ttotal: 12.5s\tremaining: 32s\n",
            "2900:\tlearn: 5361.4264162\ttotal: 13.3s\tremaining: 32.5s\n",
            "3000:\tlearn: 5340.9512001\ttotal: 14.2s\tremaining: 33.1s\n",
            "3100:\tlearn: 5322.8202365\ttotal: 14.9s\tremaining: 33.2s\n",
            "3200:\tlearn: 5301.5342603\ttotal: 15.8s\tremaining: 33.7s\n",
            "3300:\tlearn: 5283.9217183\ttotal: 16.4s\tremaining: 33.3s\n",
            "3400:\tlearn: 5265.6270131\ttotal: 16.8s\tremaining: 32.6s\n",
            "3500:\tlearn: 5251.7221766\ttotal: 17.2s\tremaining: 31.9s\n",
            "3600:\tlearn: 5239.1937054\ttotal: 17.6s\tremaining: 31.3s\n",
            "3700:\tlearn: 5224.7537383\ttotal: 18.1s\tremaining: 30.7s\n",
            "3800:\tlearn: 5204.9132131\ttotal: 18.5s\tremaining: 30.1s\n",
            "3900:\tlearn: 5190.9449729\ttotal: 18.9s\tremaining: 29.5s\n",
            "4000:\tlearn: 5178.9413734\ttotal: 19.3s\tremaining: 28.9s\n",
            "4100:\tlearn: 5169.0557760\ttotal: 19.7s\tremaining: 28.4s\n",
            "4200:\tlearn: 5157.9294405\ttotal: 20.1s\tremaining: 27.8s\n",
            "4300:\tlearn: 5146.3633888\ttotal: 20.5s\tremaining: 27.2s\n",
            "4400:\tlearn: 5134.5017310\ttotal: 21s\tremaining: 26.7s\n",
            "4500:\tlearn: 5127.2616531\ttotal: 21.4s\tremaining: 26.1s\n",
            "4600:\tlearn: 5116.3820894\ttotal: 21.8s\tremaining: 25.6s\n",
            "4700:\tlearn: 5105.1713871\ttotal: 22.2s\tremaining: 25s\n",
            "4800:\tlearn: 5095.0764649\ttotal: 22.6s\tremaining: 24.5s\n",
            "4900:\tlearn: 5083.4368888\ttotal: 23.1s\tremaining: 24s\n",
            "5000:\tlearn: 5072.1018980\ttotal: 23.5s\tremaining: 23.5s\n",
            "5100:\tlearn: 5063.2432668\ttotal: 23.9s\tremaining: 23s\n",
            "5200:\tlearn: 5054.8115632\ttotal: 24.3s\tremaining: 22.4s\n",
            "5300:\tlearn: 5046.7969596\ttotal: 24.8s\tremaining: 21.9s\n",
            "5400:\tlearn: 5035.9863870\ttotal: 25.2s\tremaining: 21.4s\n",
            "5500:\tlearn: 5028.4850853\ttotal: 25.6s\tremaining: 20.9s\n",
            "5600:\tlearn: 5017.5239244\ttotal: 26.1s\tremaining: 20.5s\n",
            "5700:\tlearn: 5004.7760180\ttotal: 27s\tremaining: 20.4s\n",
            "5800:\tlearn: 4996.1497600\ttotal: 27.9s\tremaining: 20.2s\n",
            "5900:\tlearn: 4985.6315177\ttotal: 28.7s\tremaining: 20s\n",
            "6000:\tlearn: 4977.0249558\ttotal: 29.6s\tremaining: 19.7s\n",
            "6100:\tlearn: 4968.2391760\ttotal: 30s\tremaining: 19.2s\n",
            "6200:\tlearn: 4962.1253677\ttotal: 30.4s\tremaining: 18.6s\n",
            "6300:\tlearn: 4955.1100828\ttotal: 30.8s\tremaining: 18.1s\n",
            "6400:\tlearn: 4947.2096213\ttotal: 31.3s\tremaining: 17.6s\n",
            "6500:\tlearn: 4941.1991800\ttotal: 31.7s\tremaining: 17.1s\n",
            "6600:\tlearn: 4934.4251260\ttotal: 32.1s\tremaining: 16.5s\n",
            "6700:\tlearn: 4921.7454174\ttotal: 32.5s\tremaining: 16s\n",
            "6800:\tlearn: 4914.2328957\ttotal: 32.9s\tremaining: 15.5s\n",
            "6900:\tlearn: 4908.7169906\ttotal: 33.3s\tremaining: 15s\n",
            "7000:\tlearn: 4903.2865106\ttotal: 33.7s\tremaining: 14.5s\n",
            "7100:\tlearn: 4897.0747169\ttotal: 34.2s\tremaining: 13.9s\n",
            "7200:\tlearn: 4887.8091537\ttotal: 34.6s\tremaining: 13.4s\n",
            "7300:\tlearn: 4876.8608028\ttotal: 35s\tremaining: 12.9s\n",
            "7400:\tlearn: 4867.4734216\ttotal: 35.4s\tremaining: 12.4s\n",
            "7500:\tlearn: 4860.7078576\ttotal: 35.8s\tremaining: 11.9s\n",
            "7600:\tlearn: 4850.0984215\ttotal: 36.2s\tremaining: 11.4s\n",
            "7700:\tlearn: 4843.6093908\ttotal: 36.6s\tremaining: 10.9s\n",
            "7800:\tlearn: 4838.3809942\ttotal: 37.1s\tremaining: 10.4s\n",
            "7900:\tlearn: 4833.6116044\ttotal: 37.5s\tremaining: 9.95s\n",
            "8000:\tlearn: 4824.9873930\ttotal: 37.9s\tremaining: 9.46s\n",
            "8100:\tlearn: 4819.8055587\ttotal: 38.3s\tremaining: 8.98s\n",
            "8200:\tlearn: 4813.8490547\ttotal: 38.7s\tremaining: 8.49s\n",
            "8300:\tlearn: 4807.1886308\ttotal: 39.1s\tremaining: 8.01s\n",
            "8400:\tlearn: 4803.1851445\ttotal: 39.7s\tremaining: 7.55s\n",
            "8500:\tlearn: 4799.1432662\ttotal: 40.6s\tremaining: 7.15s\n",
            "8600:\tlearn: 4794.1576809\ttotal: 41.4s\tremaining: 6.74s\n",
            "8700:\tlearn: 4786.1324310\ttotal: 42.3s\tremaining: 6.32s\n",
            "8800:\tlearn: 4781.6528377\ttotal: 43s\tremaining: 5.86s\n",
            "8900:\tlearn: 4771.5768456\ttotal: 43.5s\tremaining: 5.37s\n",
            "9000:\tlearn: 4766.3851013\ttotal: 43.9s\tremaining: 4.87s\n",
            "9100:\tlearn: 4761.4116709\ttotal: 44.3s\tremaining: 4.38s\n",
            "9200:\tlearn: 4757.7040369\ttotal: 44.7s\tremaining: 3.88s\n",
            "9300:\tlearn: 4752.4029798\ttotal: 45.1s\tremaining: 3.39s\n",
            "9400:\tlearn: 4747.9842270\ttotal: 45.6s\tremaining: 2.9s\n",
            "9500:\tlearn: 4743.0960009\ttotal: 46s\tremaining: 2.41s\n",
            "9600:\tlearn: 4738.5277478\ttotal: 46.4s\tremaining: 1.93s\n",
            "9700:\tlearn: 4735.1447414\ttotal: 46.8s\tremaining: 1.44s\n",
            "9800:\tlearn: 4730.5695979\ttotal: 47.2s\tremaining: 959ms\n",
            "9900:\tlearn: 4726.2416271\ttotal: 47.6s\tremaining: 476ms\n",
            "9999:\tlearn: 4721.9869522\ttotal: 48s\tremaining: 0us\n",
            "0:\tlearn: 12019.8541714\ttotal: 5.42ms\tremaining: 54.2s\n",
            "100:\tlearn: 7243.9824295\ttotal: 380ms\tremaining: 37.2s\n",
            "200:\tlearn: 6703.4968112\ttotal: 769ms\tremaining: 37.5s\n",
            "300:\tlearn: 6513.6778454\ttotal: 1.19s\tremaining: 38.4s\n",
            "400:\tlearn: 6380.1561241\ttotal: 1.57s\tremaining: 37.6s\n",
            "500:\tlearn: 6256.5673461\ttotal: 1.93s\tremaining: 36.6s\n",
            "600:\tlearn: 6163.4676137\ttotal: 2.32s\tremaining: 36.2s\n",
            "700:\tlearn: 6073.7018585\ttotal: 2.68s\tremaining: 35.5s\n",
            "800:\tlearn: 6008.9327147\ttotal: 3.07s\tremaining: 35.3s\n",
            "900:\tlearn: 5954.7283317\ttotal: 3.45s\tremaining: 34.9s\n",
            "1000:\tlearn: 5909.6528905\ttotal: 3.82s\tremaining: 34.4s\n",
            "1100:\tlearn: 5866.6275778\ttotal: 4.22s\tremaining: 34.1s\n",
            "1200:\tlearn: 5822.9943725\ttotal: 4.98s\tremaining: 36.5s\n",
            "1300:\tlearn: 5779.0516821\ttotal: 5.81s\tremaining: 38.8s\n",
            "1400:\tlearn: 5743.3355547\ttotal: 6.61s\tremaining: 40.6s\n",
            "1500:\tlearn: 5709.4323649\ttotal: 7.49s\tremaining: 42.4s\n",
            "1600:\tlearn: 5681.4369027\ttotal: 8.15s\tremaining: 42.7s\n",
            "1700:\tlearn: 5647.8969484\ttotal: 8.53s\tremaining: 41.6s\n",
            "1800:\tlearn: 5626.3471974\ttotal: 8.93s\tremaining: 40.6s\n",
            "1900:\tlearn: 5598.8190231\ttotal: 9.32s\tremaining: 39.7s\n",
            "2000:\tlearn: 5571.7106532\ttotal: 9.71s\tremaining: 38.8s\n",
            "2100:\tlearn: 5544.7724447\ttotal: 10.1s\tremaining: 38.1s\n",
            "2200:\tlearn: 5512.5981564\ttotal: 10.5s\tremaining: 37.3s\n",
            "2300:\tlearn: 5492.4345086\ttotal: 10.9s\tremaining: 36.6s\n",
            "2400:\tlearn: 5471.6725771\ttotal: 11.4s\tremaining: 35.9s\n",
            "2500:\tlearn: 5451.6065258\ttotal: 11.7s\tremaining: 35.2s\n",
            "2600:\tlearn: 5432.0457697\ttotal: 12.2s\tremaining: 34.6s\n",
            "2700:\tlearn: 5410.1384377\ttotal: 12.5s\tremaining: 33.9s\n",
            "2800:\tlearn: 5393.0340725\ttotal: 12.9s\tremaining: 33.3s\n",
            "2900:\tlearn: 5372.2146862\ttotal: 13.3s\tremaining: 32.7s\n",
            "3000:\tlearn: 5349.4209424\ttotal: 13.7s\tremaining: 32.1s\n",
            "3100:\tlearn: 5334.0292594\ttotal: 14.1s\tremaining: 31.5s\n",
            "3200:\tlearn: 5315.7467811\ttotal: 14.5s\tremaining: 30.9s\n",
            "3300:\tlearn: 5298.3902959\ttotal: 14.9s\tremaining: 30.3s\n",
            "3400:\tlearn: 5285.3672041\ttotal: 15.4s\tremaining: 29.8s\n",
            "3500:\tlearn: 5272.2296069\ttotal: 15.8s\tremaining: 29.3s\n",
            "3600:\tlearn: 5256.1801593\ttotal: 16.2s\tremaining: 28.8s\n",
            "3700:\tlearn: 5242.8829279\ttotal: 16.6s\tremaining: 28.2s\n",
            "3800:\tlearn: 5227.2697375\ttotal: 17s\tremaining: 27.7s\n",
            "3900:\tlearn: 5216.1428757\ttotal: 17.4s\tremaining: 27.2s\n",
            "4000:\tlearn: 5203.6928034\ttotal: 17.9s\tremaining: 26.9s\n",
            "4100:\tlearn: 5191.5677778\ttotal: 18.9s\tremaining: 27.1s\n",
            "4200:\tlearn: 5180.4166441\ttotal: 19.7s\tremaining: 27.2s\n",
            "4300:\tlearn: 5164.9565614\ttotal: 20.6s\tremaining: 27.3s\n",
            "4400:\tlearn: 5152.4523326\ttotal: 21.2s\tremaining: 27s\n",
            "4500:\tlearn: 5140.8925415\ttotal: 21.6s\tremaining: 26.4s\n",
            "4600:\tlearn: 5129.8647952\ttotal: 22s\tremaining: 25.8s\n",
            "4700:\tlearn: 5119.1237985\ttotal: 22.4s\tremaining: 25.3s\n",
            "4800:\tlearn: 5109.5547356\ttotal: 22.8s\tremaining: 24.7s\n",
            "4900:\tlearn: 5097.8379280\ttotal: 23.2s\tremaining: 24.2s\n",
            "5000:\tlearn: 5088.4922309\ttotal: 23.7s\tremaining: 23.6s\n",
            "5100:\tlearn: 5078.2584712\ttotal: 24.1s\tremaining: 23.1s\n",
            "5200:\tlearn: 5069.2733074\ttotal: 24.5s\tremaining: 22.6s\n",
            "5300:\tlearn: 5060.6878458\ttotal: 24.9s\tremaining: 22s\n",
            "5400:\tlearn: 5048.9525631\ttotal: 25.3s\tremaining: 21.5s\n",
            "5500:\tlearn: 5041.2152534\ttotal: 25.7s\tremaining: 21s\n",
            "5600:\tlearn: 5031.2242587\ttotal: 26.1s\tremaining: 20.5s\n",
            "5700:\tlearn: 5020.9692573\ttotal: 26.5s\tremaining: 20s\n",
            "5800:\tlearn: 5013.1798211\ttotal: 26.9s\tremaining: 19.5s\n",
            "5900:\tlearn: 5002.1641148\ttotal: 27.3s\tremaining: 19s\n",
            "6000:\tlearn: 4994.6752522\ttotal: 27.8s\tremaining: 18.5s\n",
            "6100:\tlearn: 4987.5040173\ttotal: 28.2s\tremaining: 18s\n",
            "6200:\tlearn: 4976.0667171\ttotal: 28.6s\tremaining: 17.5s\n",
            "6300:\tlearn: 4968.1921626\ttotal: 29s\tremaining: 17s\n",
            "6400:\tlearn: 4960.6462701\ttotal: 29.4s\tremaining: 16.6s\n",
            "6500:\tlearn: 4954.0980525\ttotal: 29.9s\tremaining: 16.1s\n",
            "6600:\tlearn: 4947.8973930\ttotal: 30.3s\tremaining: 15.6s\n",
            "6700:\tlearn: 4939.4217944\ttotal: 30.7s\tremaining: 15.1s\n",
            "6800:\tlearn: 4928.9782743\ttotal: 31.4s\tremaining: 14.8s\n",
            "6900:\tlearn: 4921.8697570\ttotal: 32.2s\tremaining: 14.5s\n",
            "7000:\tlearn: 4916.8092882\ttotal: 33.9s\tremaining: 14.5s\n",
            "7100:\tlearn: 4910.7558081\ttotal: 34.8s\tremaining: 14.2s\n",
            "7200:\tlearn: 4904.2122109\ttotal: 35.2s\tremaining: 13.7s\n",
            "7300:\tlearn: 4897.8403190\ttotal: 35.7s\tremaining: 13.2s\n",
            "7400:\tlearn: 4892.7548543\ttotal: 36.5s\tremaining: 12.8s\n",
            "7500:\tlearn: 4882.7667057\ttotal: 36.9s\tremaining: 12.3s\n",
            "7600:\tlearn: 4877.3865217\ttotal: 37.4s\tremaining: 11.8s\n",
            "7700:\tlearn: 4871.0444515\ttotal: 37.8s\tremaining: 11.3s\n",
            "7800:\tlearn: 4865.7337742\ttotal: 38.2s\tremaining: 10.8s\n",
            "7900:\tlearn: 4860.5012592\ttotal: 38.7s\tremaining: 10.3s\n",
            "8000:\tlearn: 4855.9127778\ttotal: 39.1s\tremaining: 9.76s\n",
            "8100:\tlearn: 4851.3380775\ttotal: 39.5s\tremaining: 9.26s\n",
            "8200:\tlearn: 4846.4699316\ttotal: 39.9s\tremaining: 8.76s\n",
            "8300:\tlearn: 4842.0485608\ttotal: 40.3s\tremaining: 8.26s\n",
            "8400:\tlearn: 4835.5595166\ttotal: 40.8s\tremaining: 7.76s\n",
            "8500:\tlearn: 4828.5207190\ttotal: 41.2s\tremaining: 7.26s\n",
            "8600:\tlearn: 4821.1858805\ttotal: 41.6s\tremaining: 6.77s\n",
            "8700:\tlearn: 4816.2873580\ttotal: 42s\tremaining: 6.27s\n",
            "8800:\tlearn: 4807.7957253\ttotal: 42.4s\tremaining: 5.78s\n",
            "8900:\tlearn: 4803.8993289\ttotal: 42.8s\tremaining: 5.29s\n",
            "9000:\tlearn: 4800.0103775\ttotal: 43.3s\tremaining: 4.8s\n",
            "9100:\tlearn: 4794.4826399\ttotal: 43.7s\tremaining: 4.31s\n",
            "9200:\tlearn: 4789.8806843\ttotal: 44.1s\tremaining: 3.83s\n",
            "9300:\tlearn: 4780.1313138\ttotal: 44.6s\tremaining: 3.35s\n",
            "9400:\tlearn: 4775.1727905\ttotal: 45.5s\tremaining: 2.9s\n",
            "9500:\tlearn: 4768.8487595\ttotal: 46.4s\tremaining: 2.44s\n",
            "9600:\tlearn: 4764.2680191\ttotal: 47.3s\tremaining: 1.97s\n",
            "9700:\tlearn: 4759.2647710\ttotal: 48s\tremaining: 1.48s\n",
            "9800:\tlearn: 4751.9771972\ttotal: 48.4s\tremaining: 984ms\n",
            "9900:\tlearn: 4745.5410030\ttotal: 48.9s\tremaining: 489ms\n",
            "9999:\tlearn: 4739.7733420\ttotal: 49.3s\tremaining: 0us\n",
            "0:\tlearn: 12033.6626143\ttotal: 5.74ms\tremaining: 57.4s\n",
            "100:\tlearn: 7131.9247919\ttotal: 400ms\tremaining: 39.2s\n",
            "200:\tlearn: 6642.3097738\ttotal: 795ms\tremaining: 38.7s\n",
            "300:\tlearn: 6482.4758083\ttotal: 1.21s\tremaining: 38.9s\n",
            "400:\tlearn: 6321.6759889\ttotal: 1.59s\tremaining: 38s\n",
            "500:\tlearn: 6171.7829613\ttotal: 1.95s\tremaining: 37s\n",
            "600:\tlearn: 6074.1604363\ttotal: 2.34s\tremaining: 36.6s\n",
            "700:\tlearn: 5994.4102243\ttotal: 2.72s\tremaining: 36.1s\n",
            "800:\tlearn: 5934.8159277\ttotal: 3.09s\tremaining: 35.5s\n",
            "900:\tlearn: 5877.8210846\ttotal: 3.46s\tremaining: 35s\n",
            "1000:\tlearn: 5809.0729582\ttotal: 3.84s\tremaining: 34.5s\n",
            "1100:\tlearn: 5755.9619295\ttotal: 4.22s\tremaining: 34.2s\n",
            "1200:\tlearn: 5705.8259521\ttotal: 4.61s\tremaining: 33.8s\n",
            "1300:\tlearn: 5665.1051187\ttotal: 4.99s\tremaining: 33.3s\n",
            "1400:\tlearn: 5628.5633036\ttotal: 5.39s\tremaining: 33.1s\n",
            "1500:\tlearn: 5593.6258038\ttotal: 5.79s\tremaining: 32.8s\n",
            "1600:\tlearn: 5560.0401391\ttotal: 6.2s\tremaining: 32.5s\n",
            "1700:\tlearn: 5530.2230041\ttotal: 6.58s\tremaining: 32.1s\n",
            "1800:\tlearn: 5490.3360661\ttotal: 6.97s\tremaining: 31.7s\n",
            "1900:\tlearn: 5458.1317752\ttotal: 7.39s\tremaining: 31.5s\n",
            "2000:\tlearn: 5432.3293649\ttotal: 7.79s\tremaining: 31.1s\n",
            "2100:\tlearn: 5406.2441859\ttotal: 8.39s\tremaining: 31.5s\n",
            "2200:\tlearn: 5378.5059618\ttotal: 9.23s\tremaining: 32.7s\n",
            "2300:\tlearn: 5355.9014331\ttotal: 10.1s\tremaining: 33.8s\n",
            "2400:\tlearn: 5326.5456375\ttotal: 10.9s\tremaining: 34.4s\n",
            "2500:\tlearn: 5306.5563579\ttotal: 11.5s\tremaining: 34.5s\n",
            "2600:\tlearn: 5288.6027224\ttotal: 11.9s\tremaining: 33.9s\n",
            "2700:\tlearn: 5271.6594784\ttotal: 12.3s\tremaining: 33.4s\n",
            "2800:\tlearn: 5251.8452828\ttotal: 12.7s\tremaining: 32.7s\n",
            "2900:\tlearn: 5233.7615952\ttotal: 13.1s\tremaining: 32.2s\n",
            "3000:\tlearn: 5217.3543865\ttotal: 13.6s\tremaining: 31.6s\n",
            "3100:\tlearn: 5200.8928933\ttotal: 14s\tremaining: 31.1s\n",
            "3200:\tlearn: 5185.6891563\ttotal: 14.4s\tremaining: 30.6s\n",
            "3300:\tlearn: 5168.0404826\ttotal: 14.8s\tremaining: 30.1s\n",
            "3400:\tlearn: 5149.9274939\ttotal: 15.2s\tremaining: 29.5s\n",
            "3500:\tlearn: 5136.8989062\ttotal: 15.6s\tremaining: 29s\n",
            "3600:\tlearn: 5124.4164354\ttotal: 16.1s\tremaining: 28.5s\n",
            "3700:\tlearn: 5109.0197271\ttotal: 16.5s\tremaining: 28.1s\n",
            "3800:\tlearn: 5088.7682674\ttotal: 16.9s\tremaining: 27.6s\n",
            "3900:\tlearn: 5076.2715747\ttotal: 17.3s\tremaining: 27.1s\n",
            "4000:\tlearn: 5064.8873257\ttotal: 17.8s\tremaining: 26.6s\n",
            "4100:\tlearn: 5044.8053124\ttotal: 18.2s\tremaining: 26.2s\n",
            "4200:\tlearn: 5033.7646575\ttotal: 18.6s\tremaining: 25.7s\n",
            "4300:\tlearn: 5021.4682882\ttotal: 19s\tremaining: 25.2s\n",
            "4400:\tlearn: 5011.1045371\ttotal: 19.5s\tremaining: 24.8s\n",
            "4500:\tlearn: 4999.2426537\ttotal: 19.9s\tremaining: 24.3s\n",
            "4600:\tlearn: 4988.4682828\ttotal: 20.3s\tremaining: 23.8s\n",
            "4700:\tlearn: 4979.4842550\ttotal: 20.7s\tremaining: 23.4s\n",
            "4800:\tlearn: 4968.2043775\ttotal: 21.2s\tremaining: 23s\n",
            "4900:\tlearn: 4956.0747187\ttotal: 22.1s\tremaining: 23s\n",
            "5000:\tlearn: 4949.7141802\ttotal: 23s\tremaining: 23s\n",
            "5100:\tlearn: 4940.7317039\ttotal: 23.9s\tremaining: 22.9s\n",
            "5200:\tlearn: 4928.4320138\ttotal: 24.6s\tremaining: 22.7s\n",
            "5300:\tlearn: 4920.1703558\ttotal: 25s\tremaining: 22.2s\n",
            "5400:\tlearn: 4911.5435553\ttotal: 25.5s\tremaining: 21.7s\n",
            "5500:\tlearn: 4903.8044720\ttotal: 25.9s\tremaining: 21.2s\n",
            "5600:\tlearn: 4895.0751406\ttotal: 26.3s\tremaining: 20.6s\n",
            "5700:\tlearn: 4886.1678955\ttotal: 26.7s\tremaining: 20.1s\n",
            "5800:\tlearn: 4878.3033609\ttotal: 27.2s\tremaining: 19.7s\n",
            "5900:\tlearn: 4870.1806569\ttotal: 27.7s\tremaining: 19.2s\n",
            "6000:\tlearn: 4862.2257442\ttotal: 28.7s\tremaining: 19.1s\n",
            "6100:\tlearn: 4853.6125344\ttotal: 29.6s\tremaining: 18.9s\n",
            "6200:\tlearn: 4847.7573026\ttotal: 30.5s\tremaining: 18.7s\n",
            "6300:\tlearn: 4837.7758886\ttotal: 31.3s\tremaining: 18.3s\n",
            "6400:\tlearn: 4830.6975346\ttotal: 31.7s\tremaining: 17.8s\n",
            "6500:\tlearn: 4818.5876298\ttotal: 32.1s\tremaining: 17.3s\n",
            "6600:\tlearn: 4806.7478446\ttotal: 32.5s\tremaining: 16.7s\n",
            "6700:\tlearn: 4800.2538359\ttotal: 33s\tremaining: 16.2s\n",
            "6800:\tlearn: 4794.8912990\ttotal: 33.4s\tremaining: 15.7s\n",
            "6900:\tlearn: 4787.6402749\ttotal: 33.8s\tremaining: 15.2s\n",
            "7000:\tlearn: 4781.1589081\ttotal: 34.2s\tremaining: 14.7s\n",
            "7100:\tlearn: 4775.0029315\ttotal: 35s\tremaining: 14.3s\n",
            "7200:\tlearn: 4768.9298394\ttotal: 35.8s\tremaining: 13.9s\n",
            "7300:\tlearn: 4762.4868115\ttotal: 36.7s\tremaining: 13.6s\n",
            "7400:\tlearn: 4756.6397638\ttotal: 37.7s\tremaining: 13.2s\n",
            "7500:\tlearn: 4750.3627545\ttotal: 38.2s\tremaining: 12.7s\n",
            "7600:\tlearn: 4744.3383021\ttotal: 38.7s\tremaining: 12.2s\n",
            "7700:\tlearn: 4737.3281846\ttotal: 39.1s\tremaining: 11.7s\n",
            "7800:\tlearn: 4731.5075995\ttotal: 39.5s\tremaining: 11.1s\n",
            "7900:\tlearn: 4722.6709808\ttotal: 39.9s\tremaining: 10.6s\n",
            "8000:\tlearn: 4717.2782652\ttotal: 40.4s\tremaining: 10.1s\n",
            "8100:\tlearn: 4710.8030502\ttotal: 40.8s\tremaining: 9.56s\n",
            "8200:\tlearn: 4705.8410584\ttotal: 41.2s\tremaining: 9.04s\n",
            "8300:\tlearn: 4701.2419800\ttotal: 41.6s\tremaining: 8.52s\n",
            "8400:\tlearn: 4698.3297988\ttotal: 42.1s\tremaining: 8s\n",
            "8500:\tlearn: 4692.1979858\ttotal: 42.5s\tremaining: 7.49s\n",
            "8600:\tlearn: 4686.3719311\ttotal: 42.9s\tremaining: 6.97s\n",
            "8700:\tlearn: 4679.3195464\ttotal: 43.3s\tremaining: 6.46s\n",
            "8800:\tlearn: 4674.4158626\ttotal: 43.7s\tremaining: 5.95s\n",
            "8900:\tlearn: 4669.4477246\ttotal: 44.1s\tremaining: 5.45s\n",
            "9000:\tlearn: 4663.5867992\ttotal: 44.6s\tremaining: 4.95s\n",
            "9100:\tlearn: 4659.6436001\ttotal: 45s\tremaining: 4.44s\n",
            "9200:\tlearn: 4655.3341116\ttotal: 45.4s\tremaining: 3.94s\n",
            "9300:\tlearn: 4649.5793720\ttotal: 45.8s\tremaining: 3.44s\n",
            "9400:\tlearn: 4645.8193948\ttotal: 46.2s\tremaining: 2.94s\n",
            "9500:\tlearn: 4640.7602469\ttotal: 46.7s\tremaining: 2.45s\n",
            "9600:\tlearn: 4637.0818108\ttotal: 47.1s\tremaining: 1.96s\n",
            "9700:\tlearn: 4632.8497801\ttotal: 47.5s\tremaining: 1.46s\n",
            "9800:\tlearn: 4629.4907374\ttotal: 48.2s\tremaining: 978ms\n",
            "9900:\tlearn: 4626.3646268\ttotal: 49s\tremaining: 490ms\n",
            "9999:\tlearn: 4621.2448451\ttotal: 49.9s\tremaining: 0us\n",
            "0:\tlearn: 11874.5917710\ttotal: 15.1ms\tremaining: 2m 30s\n",
            "100:\tlearn: 7091.6888189\ttotal: 893ms\tremaining: 1m 27s\n",
            "200:\tlearn: 6592.3666791\ttotal: 1.43s\tremaining: 1m 9s\n",
            "300:\tlearn: 6418.1400430\ttotal: 1.85s\tremaining: 59.5s\n",
            "400:\tlearn: 6254.5465868\ttotal: 2.23s\tremaining: 53.4s\n",
            "500:\tlearn: 6127.6643858\ttotal: 2.6s\tremaining: 49.3s\n",
            "600:\tlearn: 6023.7975617\ttotal: 2.99s\tremaining: 46.8s\n",
            "700:\tlearn: 5939.3131478\ttotal: 3.36s\tremaining: 44.5s\n",
            "800:\tlearn: 5875.4900357\ttotal: 3.73s\tremaining: 42.9s\n",
            "900:\tlearn: 5815.7212979\ttotal: 4.11s\tremaining: 41.5s\n",
            "1000:\tlearn: 5773.4537451\ttotal: 4.49s\tremaining: 40.3s\n",
            "1100:\tlearn: 5722.2639372\ttotal: 4.88s\tremaining: 39.5s\n",
            "1200:\tlearn: 5676.7404695\ttotal: 5.27s\tremaining: 38.6s\n",
            "1300:\tlearn: 5632.0311488\ttotal: 5.66s\tremaining: 37.8s\n",
            "1400:\tlearn: 5591.7986521\ttotal: 6.06s\tremaining: 37.2s\n",
            "1500:\tlearn: 5561.1219452\ttotal: 6.46s\tremaining: 36.6s\n",
            "1600:\tlearn: 5525.2130480\ttotal: 6.87s\tremaining: 36s\n",
            "1700:\tlearn: 5499.6315496\ttotal: 7.27s\tremaining: 35.5s\n",
            "1800:\tlearn: 5474.5218908\ttotal: 7.66s\tremaining: 34.9s\n",
            "1900:\tlearn: 5447.2115603\ttotal: 8.07s\tremaining: 34.4s\n",
            "2000:\tlearn: 5424.9319499\ttotal: 8.47s\tremaining: 33.9s\n",
            "2100:\tlearn: 5397.4658213\ttotal: 8.9s\tremaining: 33.5s\n",
            "2200:\tlearn: 5373.6300590\ttotal: 9.3s\tremaining: 33s\n",
            "2300:\tlearn: 5351.8668120\ttotal: 9.74s\tremaining: 32.6s\n",
            "2400:\tlearn: 5335.2721589\ttotal: 10.1s\tremaining: 32.1s\n",
            "2500:\tlearn: 5315.7285352\ttotal: 10.5s\tremaining: 31.6s\n",
            "2600:\tlearn: 5293.0674495\ttotal: 11s\tremaining: 31.2s\n",
            "2700:\tlearn: 5270.7014145\ttotal: 11.8s\tremaining: 32s\n",
            "2800:\tlearn: 5254.2920402\ttotal: 12.7s\tremaining: 32.6s\n",
            "2900:\tlearn: 5241.0344471\ttotal: 13.5s\tremaining: 33s\n",
            "3000:\tlearn: 5225.3656437\ttotal: 14.4s\tremaining: 33.5s\n",
            "3100:\tlearn: 5207.7948070\ttotal: 14.8s\tremaining: 32.9s\n",
            "3200:\tlearn: 5193.6532803\ttotal: 15.2s\tremaining: 32.3s\n",
            "3300:\tlearn: 5177.0657007\ttotal: 15.6s\tremaining: 31.7s\n",
            "3400:\tlearn: 5163.8817447\ttotal: 16.1s\tremaining: 31.2s\n",
            "3500:\tlearn: 5144.3905764\ttotal: 17.1s\tremaining: 31.8s\n",
            "3600:\tlearn: 5129.3033797\ttotal: 17.7s\tremaining: 31.5s\n",
            "3700:\tlearn: 5115.6720838\ttotal: 18.7s\tremaining: 31.9s\n",
            "3800:\tlearn: 5103.8797113\ttotal: 19.2s\tremaining: 31.3s\n",
            "3900:\tlearn: 5092.9091019\ttotal: 19.7s\tremaining: 30.8s\n",
            "4000:\tlearn: 5081.5979670\ttotal: 20.1s\tremaining: 30.2s\n",
            "4100:\tlearn: 5071.8856064\ttotal: 20.6s\tremaining: 29.6s\n",
            "4200:\tlearn: 5057.6751350\ttotal: 21.1s\tremaining: 29.1s\n",
            "4300:\tlearn: 5046.9834607\ttotal: 21.6s\tremaining: 28.6s\n",
            "4400:\tlearn: 5035.3078157\ttotal: 22.2s\tremaining: 28.2s\n",
            "4500:\tlearn: 5023.2610493\ttotal: 22.7s\tremaining: 27.8s\n",
            "4600:\tlearn: 5009.6749314\ttotal: 23.4s\tremaining: 27.5s\n",
            "4700:\tlearn: 5002.2121681\ttotal: 24.2s\tremaining: 27.2s\n",
            "4800:\tlearn: 4993.0233861\ttotal: 25s\tremaining: 27.1s\n",
            "4900:\tlearn: 4981.8930972\ttotal: 25.9s\tremaining: 26.9s\n",
            "5000:\tlearn: 4971.7442500\ttotal: 26.7s\tremaining: 26.7s\n",
            "5100:\tlearn: 4962.3050323\ttotal: 27.7s\tremaining: 26.6s\n",
            "5200:\tlearn: 4954.7821811\ttotal: 28.3s\tremaining: 26.1s\n",
            "5300:\tlearn: 4946.5705573\ttotal: 28.6s\tremaining: 25.4s\n",
            "5400:\tlearn: 4939.8210509\ttotal: 29.1s\tremaining: 24.7s\n",
            "5500:\tlearn: 4933.8028880\ttotal: 29.5s\tremaining: 24.1s\n",
            "5600:\tlearn: 4925.1527123\ttotal: 29.9s\tremaining: 23.5s\n",
            "5700:\tlearn: 4917.0924988\ttotal: 30.4s\tremaining: 22.9s\n",
            "5800:\tlearn: 4907.4772971\ttotal: 30.8s\tremaining: 22.3s\n",
            "5900:\tlearn: 4897.5675705\ttotal: 31.2s\tremaining: 21.7s\n",
            "6000:\tlearn: 4889.5240833\ttotal: 31.6s\tremaining: 21.1s\n",
            "6100:\tlearn: 4881.1882481\ttotal: 32s\tremaining: 20.5s\n",
            "6200:\tlearn: 4872.5393192\ttotal: 32.5s\tremaining: 19.9s\n",
            "6300:\tlearn: 4867.2555223\ttotal: 32.9s\tremaining: 19.3s\n",
            "6400:\tlearn: 4861.1695640\ttotal: 33.3s\tremaining: 18.7s\n",
            "6500:\tlearn: 4853.8501603\ttotal: 33.8s\tremaining: 18.2s\n",
            "6600:\tlearn: 4847.8124041\ttotal: 34.2s\tremaining: 17.6s\n",
            "6700:\tlearn: 4839.8438269\ttotal: 34.6s\tremaining: 17s\n",
            "6800:\tlearn: 4831.9954164\ttotal: 35s\tremaining: 16.5s\n",
            "6900:\tlearn: 4823.4079726\ttotal: 35.4s\tremaining: 15.9s\n",
            "7000:\tlearn: 4816.8909853\ttotal: 35.9s\tremaining: 15.4s\n",
            "7100:\tlearn: 4812.7393743\ttotal: 36.3s\tremaining: 14.8s\n",
            "7200:\tlearn: 4807.3406708\ttotal: 36.7s\tremaining: 14.3s\n",
            "7300:\tlearn: 4801.6802450\ttotal: 37.1s\tremaining: 13.7s\n",
            "7400:\tlearn: 4794.4584646\ttotal: 37.5s\tremaining: 13.2s\n",
            "7500:\tlearn: 4789.6284169\ttotal: 38.8s\tremaining: 12.9s\n",
            "7600:\tlearn: 4783.4189669\ttotal: 40s\tremaining: 12.6s\n",
            "7700:\tlearn: 4777.7045312\ttotal: 40.9s\tremaining: 12.2s\n",
            "7800:\tlearn: 4770.2438241\ttotal: 41.6s\tremaining: 11.7s\n",
            "7900:\tlearn: 4764.3610005\ttotal: 42s\tremaining: 11.2s\n",
            "8000:\tlearn: 4759.0498956\ttotal: 42.4s\tremaining: 10.6s\n",
            "8100:\tlearn: 4751.9714756\ttotal: 42.8s\tremaining: 10s\n",
            "8200:\tlearn: 4746.3931425\ttotal: 43.2s\tremaining: 9.48s\n",
            "8300:\tlearn: 4741.4972040\ttotal: 43.7s\tremaining: 8.94s\n",
            "8400:\tlearn: 4736.6973186\ttotal: 44.1s\tremaining: 8.39s\n",
            "8500:\tlearn: 4730.6787333\ttotal: 44.5s\tremaining: 7.84s\n",
            "8600:\tlearn: 4722.6915815\ttotal: 44.9s\tremaining: 7.3s\n",
            "8700:\tlearn: 4718.8729301\ttotal: 45.3s\tremaining: 6.76s\n",
            "8800:\tlearn: 4715.0076224\ttotal: 45.7s\tremaining: 6.23s\n",
            "8900:\tlearn: 4710.3470247\ttotal: 46.1s\tremaining: 5.7s\n",
            "9000:\tlearn: 4705.1575268\ttotal: 46.6s\tremaining: 5.17s\n",
            "9100:\tlearn: 4701.1050636\ttotal: 47s\tremaining: 4.64s\n",
            "9200:\tlearn: 4695.6901850\ttotal: 47.4s\tremaining: 4.11s\n",
            "9300:\tlearn: 4691.1935381\ttotal: 47.8s\tremaining: 3.59s\n",
            "9400:\tlearn: 4681.9636793\ttotal: 48.2s\tremaining: 3.07s\n",
            "9500:\tlearn: 4677.5407152\ttotal: 48.6s\tremaining: 2.55s\n",
            "9600:\tlearn: 4673.1907304\ttotal: 49.1s\tremaining: 2.04s\n",
            "9700:\tlearn: 4668.2428237\ttotal: 49.5s\tremaining: 1.52s\n",
            "9800:\tlearn: 4661.2748156\ttotal: 49.9s\tremaining: 1.01s\n",
            "9900:\tlearn: 4656.6294573\ttotal: 50.3s\tremaining: 503ms\n",
            "9999:\tlearn: 4651.9055879\ttotal: 50.8s\tremaining: 0us\n",
            "Ошибка на кросс-валидации\n"
          ]
        },
        {
          "output_type": "display_data",
          "data": {
            "text/plain": [
              "    fit_time  score_time   test_R2     test_-MSE    test_-MAE      test_-Max\n",
              "0  58.764939    0.040927  0.630852 -1.485766e+08 -4640.632196 -189366.331402\n",
              "1  49.273407    0.019664  0.768181 -5.516940e+07 -4173.210835  -71784.040590\n",
              "2  50.588349    0.025703  0.591039 -1.501990e+08 -4544.298905 -206673.124931\n",
              "3  51.250103    0.038387  0.677301 -1.070683e+08 -4712.692411 -163376.146355\n",
              "4  52.069187    0.018939  0.501458 -2.708209e+08 -5565.633277 -226601.307387"
            ],
            "text/html": [
              "\n",
              "  <div id=\"df-f132f807-1009-4b00-9608-fde67891fd51\" class=\"colab-df-container\">\n",
              "    <div>\n",
              "<style scoped>\n",
              "    .dataframe tbody tr th:only-of-type {\n",
              "        vertical-align: middle;\n",
              "    }\n",
              "\n",
              "    .dataframe tbody tr th {\n",
              "        vertical-align: top;\n",
              "    }\n",
              "\n",
              "    .dataframe thead th {\n",
              "        text-align: right;\n",
              "    }\n",
              "</style>\n",
              "<table border=\"1\" class=\"dataframe\">\n",
              "  <thead>\n",
              "    <tr style=\"text-align: right;\">\n",
              "      <th></th>\n",
              "      <th>fit_time</th>\n",
              "      <th>score_time</th>\n",
              "      <th>test_R2</th>\n",
              "      <th>test_-MSE</th>\n",
              "      <th>test_-MAE</th>\n",
              "      <th>test_-Max</th>\n",
              "    </tr>\n",
              "  </thead>\n",
              "  <tbody>\n",
              "    <tr>\n",
              "      <th>0</th>\n",
              "      <td>58.764939</td>\n",
              "      <td>0.040927</td>\n",
              "      <td>0.630852</td>\n",
              "      <td>-1.485766e+08</td>\n",
              "      <td>-4640.632196</td>\n",
              "      <td>-189366.331402</td>\n",
              "    </tr>\n",
              "    <tr>\n",
              "      <th>1</th>\n",
              "      <td>49.273407</td>\n",
              "      <td>0.019664</td>\n",
              "      <td>0.768181</td>\n",
              "      <td>-5.516940e+07</td>\n",
              "      <td>-4173.210835</td>\n",
              "      <td>-71784.040590</td>\n",
              "    </tr>\n",
              "    <tr>\n",
              "      <th>2</th>\n",
              "      <td>50.588349</td>\n",
              "      <td>0.025703</td>\n",
              "      <td>0.591039</td>\n",
              "      <td>-1.501990e+08</td>\n",
              "      <td>-4544.298905</td>\n",
              "      <td>-206673.124931</td>\n",
              "    </tr>\n",
              "    <tr>\n",
              "      <th>3</th>\n",
              "      <td>51.250103</td>\n",
              "      <td>0.038387</td>\n",
              "      <td>0.677301</td>\n",
              "      <td>-1.070683e+08</td>\n",
              "      <td>-4712.692411</td>\n",
              "      <td>-163376.146355</td>\n",
              "    </tr>\n",
              "    <tr>\n",
              "      <th>4</th>\n",
              "      <td>52.069187</td>\n",
              "      <td>0.018939</td>\n",
              "      <td>0.501458</td>\n",
              "      <td>-2.708209e+08</td>\n",
              "      <td>-5565.633277</td>\n",
              "      <td>-226601.307387</td>\n",
              "    </tr>\n",
              "  </tbody>\n",
              "</table>\n",
              "</div>\n",
              "    <div class=\"colab-df-buttons\">\n",
              "\n",
              "  <div class=\"colab-df-container\">\n",
              "    <button class=\"colab-df-convert\" onclick=\"convertToInteractive('df-f132f807-1009-4b00-9608-fde67891fd51')\"\n",
              "            title=\"Convert this dataframe to an interactive table.\"\n",
              "            style=\"display:none;\">\n",
              "\n",
              "  <svg xmlns=\"http://www.w3.org/2000/svg\" height=\"24px\" viewBox=\"0 -960 960 960\">\n",
              "    <path d=\"M120-120v-720h720v720H120Zm60-500h600v-160H180v160Zm220 220h160v-160H400v160Zm0 220h160v-160H400v160ZM180-400h160v-160H180v160Zm440 0h160v-160H620v160ZM180-180h160v-160H180v160Zm440 0h160v-160H620v160Z\"/>\n",
              "  </svg>\n",
              "    </button>\n",
              "\n",
              "  <style>\n",
              "    .colab-df-container {\n",
              "      display:flex;\n",
              "      gap: 12px;\n",
              "    }\n",
              "\n",
              "    .colab-df-convert {\n",
              "      background-color: #E8F0FE;\n",
              "      border: none;\n",
              "      border-radius: 50%;\n",
              "      cursor: pointer;\n",
              "      display: none;\n",
              "      fill: #1967D2;\n",
              "      height: 32px;\n",
              "      padding: 0 0 0 0;\n",
              "      width: 32px;\n",
              "    }\n",
              "\n",
              "    .colab-df-convert:hover {\n",
              "      background-color: #E2EBFA;\n",
              "      box-shadow: 0px 1px 2px rgba(60, 64, 67, 0.3), 0px 1px 3px 1px rgba(60, 64, 67, 0.15);\n",
              "      fill: #174EA6;\n",
              "    }\n",
              "\n",
              "    .colab-df-buttons div {\n",
              "      margin-bottom: 4px;\n",
              "    }\n",
              "\n",
              "    [theme=dark] .colab-df-convert {\n",
              "      background-color: #3B4455;\n",
              "      fill: #D2E3FC;\n",
              "    }\n",
              "\n",
              "    [theme=dark] .colab-df-convert:hover {\n",
              "      background-color: #434B5C;\n",
              "      box-shadow: 0px 1px 3px 1px rgba(0, 0, 0, 0.15);\n",
              "      filter: drop-shadow(0px 1px 2px rgba(0, 0, 0, 0.3));\n",
              "      fill: #FFFFFF;\n",
              "    }\n",
              "  </style>\n",
              "\n",
              "    <script>\n",
              "      const buttonEl =\n",
              "        document.querySelector('#df-f132f807-1009-4b00-9608-fde67891fd51 button.colab-df-convert');\n",
              "      buttonEl.style.display =\n",
              "        google.colab.kernel.accessAllowed ? 'block' : 'none';\n",
              "\n",
              "      async function convertToInteractive(key) {\n",
              "        const element = document.querySelector('#df-f132f807-1009-4b00-9608-fde67891fd51');\n",
              "        const dataTable =\n",
              "          await google.colab.kernel.invokeFunction('convertToInteractive',\n",
              "                                                    [key], {});\n",
              "        if (!dataTable) return;\n",
              "\n",
              "        const docLinkHtml = 'Like what you see? Visit the ' +\n",
              "          '<a target=\"_blank\" href=https://colab.research.google.com/notebooks/data_table.ipynb>data table notebook</a>'\n",
              "          + ' to learn more about interactive tables.';\n",
              "        element.innerHTML = '';\n",
              "        dataTable['output_type'] = 'display_data';\n",
              "        await google.colab.output.renderOutput(dataTable, element);\n",
              "        const docLink = document.createElement('div');\n",
              "        docLink.innerHTML = docLinkHtml;\n",
              "        element.appendChild(docLink);\n",
              "      }\n",
              "    </script>\n",
              "  </div>\n",
              "\n",
              "\n",
              "<div id=\"df-4e703b05-883d-4352-8a89-368fa2c5adff\">\n",
              "  <button class=\"colab-df-quickchart\" onclick=\"quickchart('df-4e703b05-883d-4352-8a89-368fa2c5adff')\"\n",
              "            title=\"Suggest charts\"\n",
              "            style=\"display:none;\">\n",
              "\n",
              "<svg xmlns=\"http://www.w3.org/2000/svg\" height=\"24px\"viewBox=\"0 0 24 24\"\n",
              "     width=\"24px\">\n",
              "    <g>\n",
              "        <path d=\"M19 3H5c-1.1 0-2 .9-2 2v14c0 1.1.9 2 2 2h14c1.1 0 2-.9 2-2V5c0-1.1-.9-2-2-2zM9 17H7v-7h2v7zm4 0h-2V7h2v10zm4 0h-2v-4h2v4z\"/>\n",
              "    </g>\n",
              "</svg>\n",
              "  </button>\n",
              "\n",
              "<style>\n",
              "  .colab-df-quickchart {\n",
              "      --bg-color: #E8F0FE;\n",
              "      --fill-color: #1967D2;\n",
              "      --hover-bg-color: #E2EBFA;\n",
              "      --hover-fill-color: #174EA6;\n",
              "      --disabled-fill-color: #AAA;\n",
              "      --disabled-bg-color: #DDD;\n",
              "  }\n",
              "\n",
              "  [theme=dark] .colab-df-quickchart {\n",
              "      --bg-color: #3B4455;\n",
              "      --fill-color: #D2E3FC;\n",
              "      --hover-bg-color: #434B5C;\n",
              "      --hover-fill-color: #FFFFFF;\n",
              "      --disabled-bg-color: #3B4455;\n",
              "      --disabled-fill-color: #666;\n",
              "  }\n",
              "\n",
              "  .colab-df-quickchart {\n",
              "    background-color: var(--bg-color);\n",
              "    border: none;\n",
              "    border-radius: 50%;\n",
              "    cursor: pointer;\n",
              "    display: none;\n",
              "    fill: var(--fill-color);\n",
              "    height: 32px;\n",
              "    padding: 0;\n",
              "    width: 32px;\n",
              "  }\n",
              "\n",
              "  .colab-df-quickchart:hover {\n",
              "    background-color: var(--hover-bg-color);\n",
              "    box-shadow: 0 1px 2px rgba(60, 64, 67, 0.3), 0 1px 3px 1px rgba(60, 64, 67, 0.15);\n",
              "    fill: var(--button-hover-fill-color);\n",
              "  }\n",
              "\n",
              "  .colab-df-quickchart-complete:disabled,\n",
              "  .colab-df-quickchart-complete:disabled:hover {\n",
              "    background-color: var(--disabled-bg-color);\n",
              "    fill: var(--disabled-fill-color);\n",
              "    box-shadow: none;\n",
              "  }\n",
              "\n",
              "  .colab-df-spinner {\n",
              "    border: 2px solid var(--fill-color);\n",
              "    border-color: transparent;\n",
              "    border-bottom-color: var(--fill-color);\n",
              "    animation:\n",
              "      spin 1s steps(1) infinite;\n",
              "  }\n",
              "\n",
              "  @keyframes spin {\n",
              "    0% {\n",
              "      border-color: transparent;\n",
              "      border-bottom-color: var(--fill-color);\n",
              "      border-left-color: var(--fill-color);\n",
              "    }\n",
              "    20% {\n",
              "      border-color: transparent;\n",
              "      border-left-color: var(--fill-color);\n",
              "      border-top-color: var(--fill-color);\n",
              "    }\n",
              "    30% {\n",
              "      border-color: transparent;\n",
              "      border-left-color: var(--fill-color);\n",
              "      border-top-color: var(--fill-color);\n",
              "      border-right-color: var(--fill-color);\n",
              "    }\n",
              "    40% {\n",
              "      border-color: transparent;\n",
              "      border-right-color: var(--fill-color);\n",
              "      border-top-color: var(--fill-color);\n",
              "    }\n",
              "    60% {\n",
              "      border-color: transparent;\n",
              "      border-right-color: var(--fill-color);\n",
              "    }\n",
              "    80% {\n",
              "      border-color: transparent;\n",
              "      border-right-color: var(--fill-color);\n",
              "      border-bottom-color: var(--fill-color);\n",
              "    }\n",
              "    90% {\n",
              "      border-color: transparent;\n",
              "      border-bottom-color: var(--fill-color);\n",
              "    }\n",
              "  }\n",
              "</style>\n",
              "\n",
              "  <script>\n",
              "    async function quickchart(key) {\n",
              "      const quickchartButtonEl =\n",
              "        document.querySelector('#' + key + ' button');\n",
              "      quickchartButtonEl.disabled = true;  // To prevent multiple clicks.\n",
              "      quickchartButtonEl.classList.add('colab-df-spinner');\n",
              "      try {\n",
              "        const charts = await google.colab.kernel.invokeFunction(\n",
              "            'suggestCharts', [key], {});\n",
              "      } catch (error) {\n",
              "        console.error('Error during call to suggestCharts:', error);\n",
              "      }\n",
              "      quickchartButtonEl.classList.remove('colab-df-spinner');\n",
              "      quickchartButtonEl.classList.add('colab-df-quickchart-complete');\n",
              "    }\n",
              "    (() => {\n",
              "      let quickchartButtonEl =\n",
              "        document.querySelector('#df-4e703b05-883d-4352-8a89-368fa2c5adff button');\n",
              "      quickchartButtonEl.style.display =\n",
              "        google.colab.kernel.accessAllowed ? 'block' : 'none';\n",
              "    })();\n",
              "  </script>\n",
              "</div>\n",
              "    </div>\n",
              "  </div>\n"
            ],
            "application/vnd.google.colaboratory.intrinsic+json": {
              "type": "dataframe",
              "summary": "{\n  \"name\": \"                  ShuffleSplit(n_splits=5, random_state = 42))\",\n  \"rows\": 5,\n  \"fields\": [\n    {\n      \"column\": \"fit_time\",\n      \"properties\": {\n        \"dtype\": \"number\",\n        \"std\": 3.708140574605897,\n        \"min\": 49.273406744003296,\n        \"max\": 58.76493859291077,\n        \"num_unique_values\": 5,\n        \"samples\": [\n          49.273406744003296,\n          52.06918716430664,\n          50.588348627090454\n        ],\n        \"semantic_type\": \"\",\n        \"description\": \"\"\n      }\n    },\n    {\n      \"column\": \"score_time\",\n      \"properties\": {\n        \"dtype\": \"number\",\n        \"std\": 0.010359179842175777,\n        \"min\": 0.018938779830932617,\n        \"max\": 0.04092741012573242,\n        \"num_unique_values\": 5,\n        \"samples\": [\n          0.01966404914855957,\n          0.018938779830932617,\n          0.02570343017578125\n        ],\n        \"semantic_type\": \"\",\n        \"description\": \"\"\n      }\n    },\n    {\n      \"column\": \"test_R2\",\n      \"properties\": {\n        \"dtype\": \"number\",\n        \"std\": 0.09912412198414995,\n        \"min\": 0.5014578235901285,\n        \"max\": 0.7681814771361959,\n        \"num_unique_values\": 5,\n        \"samples\": [\n          0.7681814771361959,\n          0.5014578235901285,\n          0.5910393245966579\n        ],\n        \"semantic_type\": \"\",\n        \"description\": \"\"\n      }\n    },\n    {\n      \"column\": \"test_-MSE\",\n      \"properties\": {\n        \"dtype\": \"number\",\n        \"std\": 79639399.14266492,\n        \"min\": -270820930.60996294,\n        \"max\": -55169396.674305,\n        \"num_unique_values\": 5,\n        \"samples\": [\n          -55169396.674305,\n          -270820930.60996294,\n          -150198976.179401\n        ],\n        \"semantic_type\": \"\",\n        \"description\": \"\"\n      }\n    },\n    {\n      \"column\": \"test_-MAE\",\n      \"properties\": {\n        \"dtype\": \"number\",\n        \"std\": 512.599155291088,\n        \"min\": -5565.633276666265,\n        \"max\": -4173.210834927223,\n        \"num_unique_values\": 5,\n        \"samples\": [\n          -4173.210834927223,\n          -5565.633276666265,\n          -4544.298904997597\n        ],\n        \"semantic_type\": \"\",\n        \"description\": \"\"\n      }\n    },\n    {\n      \"column\": \"test_-Max\",\n      \"properties\": {\n        \"dtype\": \"number\",\n        \"std\": 60418.87129839716,\n        \"min\": -226601.307387375,\n        \"max\": -71784.0405898017,\n        \"num_unique_values\": 5,\n        \"samples\": [\n          -71784.0405898017,\n          -226601.307387375,\n          -206673.12493143222\n        ],\n        \"semantic_type\": \"\",\n        \"description\": \"\"\n      }\n    }\n  ]\n}"
            }
          },
          "metadata": {}
        },
        {
          "output_type": "stream",
          "name": "stdout",
          "text": [
            "\n",
            "\n",
            "test_R2      6.337663e-01\n",
            "test_-MSE   -1.463669e+08\n",
            "test_-MAE   -4.727294e+03\n",
            "test_-Max   -1.715602e+05\n",
            "dtype: float64\n"
          ]
        }
      ]
    },
    {
      "cell_type": "markdown",
      "source": [
        "## Визуализация ошибок от scikit-learn"
      ],
      "metadata": {
        "id": "5tRSDLMmDgLK"
      }
    },
    {
      "cell_type": "code",
      "source": [
        "PredictionErrorDisplay.from_predictions(\n",
        "    y_val,\n",
        "    model_reg.predict(eval_data_reg),\n",
        "    kind=\"actual_vs_predicted\",\n",
        "    scatter_kwargs={\"alpha\": 0.5},\n",
        ");"
      ],
      "metadata": {
        "colab": {
          "base_uri": "https://localhost:8080/",
          "height": 449
        },
        "id": "spbUOzL_DhWP",
        "outputId": "d62bd118-5cb1-4b10-d4fb-fdfd12f0e671"
      },
      "execution_count": 72,
      "outputs": [
        {
          "output_type": "display_data",
          "data": {
            "text/plain": [
              "<Figure size 640x480 with 1 Axes>"
            ],
            "image/png": "[encoded data removed]"
          },
          "metadata": {}
        }
      ]
    },
    {
      "cell_type": "markdown",
      "source": [
        "Небольшие выводы\n",
        "\n",
        "* Модель регрессии от CatBoost показало лучше результат, чем К ближайших соседей на этой выборке\n",
        "\n",
        "* Анализ значимости признаков говорит о том, что CatBoost в данном примере предпочитает категориальные признакми, в отличие от учебного примера."
      ],
      "metadata": {
        "id": "0wr5xwO1EgtJ"
      }
    },
    {
      "cell_type": "markdown",
      "source": [
        "## Полезность объектов"
      ],
      "metadata": {
        "id": "GDrCn3VvE7Nk"
      }
    },
    {
      "cell_type": "code",
      "source": [
        "# метод возвращает отсортированные списки индексов и скоров\n",
        "idxs, scores = model_reg.get_object_importance(\n",
        "    train_data_reg, eval_data_reg ,\n",
        "    importance_values_sign=\"Positive\"\n",
        ")\n",
        "len(idxs)"
      ],
      "metadata": {
        "colab": {
          "base_uri": "https://localhost:8080/"
        },
        "id": "-TUDWo76E8Wj",
        "outputId": "63744636-6491-4029-b1d6-1f29b3761555"
      },
      "execution_count": 73,
      "outputs": [
        {
          "output_type": "execute_result",
          "data": {
            "text/plain": [
              "826"
            ]
          },
          "metadata": {},
          "execution_count": 73
        }
      ]
    },
    {
      "cell_type": "code",
      "source": [
        "# Попробуем отбросить половину найденных и посмотрим как изменится точность\n",
        "train_pool = Pool(\n",
        "    X_train.reset_index(drop=True).drop(idxs[:400]),\n",
        "    y_train.reset_index(drop=True).drop(idxs[:400]),\n",
        "    cat_features=cat_columns,\n",
        ")\n",
        "\n",
        "model_clean =  CatBoostRegressor(iterations = 10000,\n",
        "                           early_stopping_rounds=100,\n",
        "                           verbose = 100,\n",
        "                           cat_features = cat_columns,\n",
        "                           depth = 3,\n",
        "                              objective  = 'MAE',\n",
        "                           eval_metric= 'MAE',\n",
        "                              random_state = 42\n",
        "                           )\n",
        "\n",
        "model_clean.fit(\n",
        "    train_pool,\n",
        "    eval_set=eval_data_reg,\n",
        "    verbose=100,\n",
        "    use_best_model=True,\n",
        "    plot=False,\n",
        "    early_stopping_rounds=100,\n",
        ")"
      ],
      "metadata": {
        "colab": {
          "base_uri": "https://localhost:8080/"
        },
        "id": "iWp747IsE_gL",
        "outputId": "8bb74eee-beb4-4a8f-9e36-f63360c47ea5"
      },
      "execution_count": 78,
      "outputs": [
        {
          "output_type": "stream",
          "name": "stdout",
          "text": [
            "0:\tlearn: 11989.0066838\ttest: 12140.5811788\tbest: 12140.5811788 (0)\ttotal: 5.95ms\tremaining: 59.5s\n",
            "100:\tlearn: 7193.6627567\ttest: 6953.4978771\tbest: 6953.4978771 (100)\ttotal: 494ms\tremaining: 48.4s\n",
            "200:\tlearn: 6687.0672236\ttest: 6474.5075532\tbest: 6474.5075532 (200)\ttotal: 1.48s\tremaining: 1m 12s\n",
            "300:\tlearn: 6533.5367397\ttest: 6344.9425593\tbest: 6344.9425593 (300)\ttotal: 2.37s\tremaining: 1m 16s\n",
            "400:\tlearn: 6361.7964520\ttest: 6203.0735316\tbest: 6203.0735316 (400)\ttotal: 3.35s\tremaining: 1m 20s\n",
            "500:\tlearn: 6209.0842853\ttest: 6076.5214077\tbest: 6076.5214077 (500)\ttotal: 4.3s\tremaining: 1m 21s\n",
            "600:\tlearn: 6097.9744980\ttest: 5992.3118024\tbest: 5992.3118024 (600)\ttotal: 4.68s\tremaining: 1m 13s\n",
            "700:\tlearn: 6007.2246127\ttest: 5922.9338904\tbest: 5922.9338904 (700)\ttotal: 5.09s\tremaining: 1m 7s\n",
            "800:\tlearn: 5926.3179722\ttest: 5855.1397684\tbest: 5855.1397684 (800)\ttotal: 5.49s\tremaining: 1m 3s\n",
            "900:\tlearn: 5857.4143348\ttest: 5806.8590678\tbest: 5806.5974888 (898)\ttotal: 5.91s\tremaining: 59.6s\n",
            "1000:\tlearn: 5808.6380564\ttest: 5766.1719599\tbest: 5766.1719599 (1000)\ttotal: 6.35s\tremaining: 57.1s\n",
            "1100:\tlearn: 5753.2741158\ttest: 5723.7683932\tbest: 5723.7683932 (1100)\ttotal: 6.93s\tremaining: 56s\n",
            "1200:\tlearn: 5693.8266014\ttest: 5676.5966364\tbest: 5676.4208484 (1199)\ttotal: 7.87s\tremaining: 57.7s\n",
            "1300:\tlearn: 5647.5988637\ttest: 5642.5546043\tbest: 5642.5546043 (1300)\ttotal: 8.78s\tremaining: 58.7s\n",
            "1400:\tlearn: 5609.1083279\ttest: 5619.2167410\tbest: 5619.2167410 (1400)\ttotal: 9.68s\tremaining: 59.4s\n",
            "1500:\tlearn: 5574.8261721\ttest: 5597.2513451\tbest: 5597.2513451 (1500)\ttotal: 10.4s\tremaining: 59.1s\n",
            "1600:\tlearn: 5539.4882666\ttest: 5580.1829510\tbest: 5580.1829510 (1600)\ttotal: 10.9s\tremaining: 57s\n",
            "1700:\tlearn: 5505.2753327\ttest: 5556.7617691\tbest: 5556.6526857 (1699)\ttotal: 11.3s\tremaining: 55.2s\n",
            "1800:\tlearn: 5475.7848786\ttest: 5541.4969479\tbest: 5541.1032894 (1797)\ttotal: 11.8s\tremaining: 53.5s\n",
            "1900:\tlearn: 5450.8482200\ttest: 5527.6648135\tbest: 5527.4654769 (1896)\ttotal: 12.2s\tremaining: 52.1s\n",
            "2000:\tlearn: 5421.5972929\ttest: 5513.1092645\tbest: 5513.1092645 (2000)\ttotal: 12.7s\tremaining: 50.6s\n",
            "2100:\tlearn: 5391.4249773\ttest: 5499.4033193\tbest: 5499.4033193 (2100)\ttotal: 13.1s\tremaining: 49.3s\n",
            "2200:\tlearn: 5366.4601443\ttest: 5486.9208667\tbest: 5486.9208667 (2200)\ttotal: 13.6s\tremaining: 48.1s\n",
            "2300:\tlearn: 5345.4038726\ttest: 5473.3617573\tbest: 5473.3617573 (2300)\ttotal: 14s\tremaining: 46.9s\n",
            "2400:\tlearn: 5321.4861642\ttest: 5457.5504059\tbest: 5457.3655457 (2398)\ttotal: 14.5s\tremaining: 45.8s\n",
            "2500:\tlearn: 5301.1973295\ttest: 5443.4209426\tbest: 5443.4209426 (2500)\ttotal: 14.9s\tremaining: 44.8s\n",
            "2600:\tlearn: 5283.1522900\ttest: 5431.6225945\tbest: 5431.5313681 (2599)\ttotal: 15.4s\tremaining: 43.8s\n",
            "2700:\tlearn: 5265.5941877\ttest: 5422.0089779\tbest: 5422.0089779 (2700)\ttotal: 15.9s\tremaining: 42.9s\n",
            "2800:\tlearn: 5251.7438198\ttest: 5415.2863220\tbest: 5415.2863220 (2800)\ttotal: 16.4s\tremaining: 42s\n",
            "2900:\tlearn: 5231.4153241\ttest: 5407.2578250\tbest: 5407.0768655 (2897)\ttotal: 16.8s\tremaining: 41.2s\n",
            "3000:\tlearn: 5214.9593534\ttest: 5398.4011118\tbest: 5397.9397842 (2986)\ttotal: 17.3s\tremaining: 40.3s\n",
            "3100:\tlearn: 5193.8354429\ttest: 5386.4322730\tbest: 5386.4322730 (3100)\ttotal: 17.8s\tremaining: 39.5s\n",
            "3200:\tlearn: 5179.9496860\ttest: 5378.8507993\tbest: 5378.8430951 (3199)\ttotal: 18.5s\tremaining: 39.2s\n",
            "3300:\tlearn: 5165.7655509\ttest: 5371.8106743\tbest: 5371.8106743 (3300)\ttotal: 18.9s\tremaining: 38.4s\n",
            "3400:\tlearn: 5151.0742990\ttest: 5367.8095888\tbest: 5367.6875341 (3396)\ttotal: 19.4s\tremaining: 37.6s\n",
            "3500:\tlearn: 5135.8355137\ttest: 5361.4752977\tbest: 5361.2923968 (3497)\ttotal: 20.6s\tremaining: 38.3s\n",
            "3600:\tlearn: 5115.4233419\ttest: 5354.6746789\tbest: 5354.2965954 (3592)\ttotal: 22.1s\tremaining: 39.4s\n",
            "3700:\tlearn: 5103.2262312\ttest: 5350.6687778\tbest: 5350.4060268 (3695)\ttotal: 23.7s\tremaining: 40.4s\n",
            "3800:\tlearn: 5087.4886217\ttest: 5341.0160167\tbest: 5339.3595917 (3775)\ttotal: 24.4s\tremaining: 39.8s\n",
            "3900:\tlearn: 5075.6923599\ttest: 5338.1711986\tbest: 5337.4903229 (3873)\ttotal: 24.9s\tremaining: 38.9s\n",
            "4000:\tlearn: 5065.3072466\ttest: 5334.4842443\tbest: 5334.3664957 (3998)\ttotal: 25.3s\tremaining: 38s\n",
            "4100:\tlearn: 5051.2398570\ttest: 5331.4903350\tbest: 5331.4903350 (4100)\ttotal: 25.8s\tremaining: 37.1s\n",
            "4200:\tlearn: 5032.9814642\ttest: 5324.2552008\tbest: 5324.0993473 (4197)\ttotal: 26.3s\tremaining: 36.3s\n",
            "4300:\tlearn: 5021.0490233\ttest: 5319.1266302\tbest: 5319.1105153 (4299)\ttotal: 26.8s\tremaining: 35.5s\n",
            "4400:\tlearn: 5011.3613206\ttest: 5315.5247365\tbest: 5315.5120106 (4399)\ttotal: 27.3s\tremaining: 34.7s\n",
            "4500:\tlearn: 5002.1779937\ttest: 5310.9749631\tbest: 5310.5811649 (4484)\ttotal: 27.7s\tremaining: 33.9s\n",
            "4600:\tlearn: 4991.6535172\ttest: 5306.3044703\tbest: 5306.0387670 (4589)\ttotal: 28.2s\tremaining: 33.1s\n",
            "4700:\tlearn: 4979.1912526\ttest: 5300.6764751\tbest: 5300.6512597 (4699)\ttotal: 28.7s\tremaining: 32.3s\n",
            "4800:\tlearn: 4969.3364721\ttest: 5298.5014219\tbest: 5298.4973392 (4793)\ttotal: 29.1s\tremaining: 31.6s\n",
            "4900:\tlearn: 4957.6377456\ttest: 5289.7493044\tbest: 5289.6438210 (4895)\ttotal: 29.6s\tremaining: 30.8s\n",
            "5000:\tlearn: 4944.5866864\ttest: 5285.0411284\tbest: 5285.0411284 (5000)\ttotal: 30.1s\tremaining: 30.1s\n",
            "5100:\tlearn: 4933.1234388\ttest: 5287.7965006\tbest: 5284.6158623 (5029)\ttotal: 30.6s\tremaining: 29.4s\n",
            "Stopped by overfitting detector  (100 iterations wait)\n",
            "\n",
            "bestTest = 5284.615862\n",
            "bestIteration = 5029\n",
            "\n",
            "Shrink model to first 5030 iterations.\n"
          ]
        },
        {
          "output_type": "execute_result",
          "data": {
            "text/plain": [
              "<catboost.core.CatBoostRegressor at 0x7f37ae8c21d0>"
            ]
          },
          "metadata": {},
          "execution_count": 78
        }
      ]
    },
    {
      "cell_type": "code",
      "source": [
        "print(f\"r2 на тренировочной выборке: {calculate_metric(model_clean, train_data_reg, y_train):.4f}\")\n",
        "print(f\"r2 на валидационной выборке: {calculate_metric(model_clean, eval_data_reg, y_val):.4f}\")\n",
        "\n",
        "print(f\"mse на тренировочной выборке: {calculate_metric(model_clean, train_data_reg, y_train, mse):.4f}\")\n",
        "print(f\"mse на валидационной выборке: {calculate_metric(model_clean, eval_data_reg, y_val, mse):.4f}\")"
      ],
      "metadata": {
        "colab": {
          "base_uri": "https://localhost:8080/"
        },
        "id": "GXYG4w3lFmHQ",
        "outputId": "bffb3831-202c-4966-e5fc-15e7e6ef10a3"
      },
      "execution_count": 79,
      "outputs": [
        {
          "output_type": "stream",
          "name": "stdout",
          "text": [
            "r2 на тренировочной выборке: 0.5804\n",
            "r2 на валидационной выборке: 0.5159\n",
            "mse на тренировочной выборке: 179193384.3230\n",
            "mse на валидационной выборке: 216264962.1097\n"
          ]
        }
      ]
    },
    {
      "cell_type": "markdown",
      "source": [
        "r2 0,54 против 0,51 на валидационной выборке"
      ],
      "metadata": {
        "id": "6kFcK4GsGHiU"
      }
    },
    {
      "cell_type": "markdown",
      "source": [
        "## Оптимизация гиперпараметров"
      ],
      "metadata": {
        "id": "28zhGh2RGSYy"
      }
    },
    {
      "cell_type": "code",
      "source": [
        "from scipy import stats\n",
        "\n",
        "model = CatBoostRegressor(\n",
        "    random_seed=42,\n",
        "    thread_count=-1,\n",
        "    cat_features=cat_columns,\n",
        "    eval_metric=\"RMSE\",\n",
        "    verbose=500,\n",
        ")\n",
        "\n",
        "param_distribution = {\n",
        "    \"one_hot_max_size\": stats.bernoulli(p=0.2, loc=2),\n",
        "    \"learning_rate\": [0.03, 0.1, 0.3],\n",
        "    \"l2_leaf_reg\": [2, 5, 7],\n",
        "    \"depth\": stats.binom(n=10, p=0.2),\n",
        "}\n",
        "randomized_search_result = model.randomized_search(param_distribution, X_train, y_train)\n",
        "model.best_score_"
      ],
      "metadata": {
        "colab": {
          "base_uri": "https://localhost:8080/"
        },
        "id": "dK_01bruGUGt",
        "outputId": "02a2ef57-eb05-4d50-8aee-a15e7fb5c00d"
      },
      "execution_count": 80,
      "outputs": [
        {
          "output_type": "stream",
          "name": "stdout",
          "text": [
            "0:\tlearn: 43415.9265114\ttest: 45023.1386969\tbest: 45023.1386969 (0)\ttotal: 5.99ms\tremaining: 5.98s\n",
            "500:\tlearn: 14870.2744137\ttest: 17702.7389626\tbest: 17702.7389626 (500)\ttotal: 1.05s\tremaining: 1.04s\n",
            "999:\tlearn: 14640.3976441\ttest: 17480.4924102\tbest: 17480.0455734 (996)\ttotal: 3.8s\tremaining: 0us\n",
            "\n",
            "bestTest = 17480.04557\n",
            "bestIteration = 996\n",
            "\n",
            "0:\tloss: 17480.0455734\tbest: 17480.0455734 (0)\ttotal: 3.87s\tremaining: 34.8s\n",
            "0:\tlearn: 43415.9265114\ttest: 45023.1386969\tbest: 45023.1386969 (0)\ttotal: 19.8ms\tremaining: 19.8s\n",
            "500:\tlearn: 14870.2744137\ttest: 17702.7389626\tbest: 17702.7389626 (500)\ttotal: 2.02s\tremaining: 2.01s\n",
            "999:\tlearn: 14640.3976441\ttest: 17480.4924102\tbest: 17480.0455734 (996)\ttotal: 3.34s\tremaining: 0us\n",
            "\n",
            "bestTest = 17480.04557\n",
            "bestIteration = 996\n",
            "\n",
            "1:\tloss: 17480.0455734\tbest: 17480.0455734 (0)\ttotal: 7.25s\tremaining: 29s\n",
            "0:\tlearn: 43415.9265114\ttest: 45023.1386969\tbest: 45023.1386969 (0)\ttotal: 3.14ms\tremaining: 3.14s\n",
            "500:\tlearn: 14870.2744137\ttest: 17702.7389626\tbest: 17702.7389626 (500)\ttotal: 1.12s\tremaining: 1.12s\n",
            "999:\tlearn: 14640.3976441\ttest: 17480.4924102\tbest: 17480.0455734 (996)\ttotal: 2.1s\tremaining: 0us\n",
            "\n",
            "bestTest = 17480.04557\n",
            "bestIteration = 996\n",
            "\n",
            "2:\tloss: 17480.0455734\tbest: 17480.0455734 (0)\ttotal: 9.38s\tremaining: 21.9s\n",
            "0:\tlearn: 40796.2564980\ttest: 42487.9852574\tbest: 42487.9852574 (0)\ttotal: 20.3ms\tremaining: 20.3s\n",
            "500:\tlearn: 8573.3365938\ttest: 13306.8351485\tbest: 13302.8519481 (493)\ttotal: 3.63s\tremaining: 3.61s\n",
            "999:\tlearn: 7327.1980279\ttest: 13077.9698531\tbest: 13076.0222060 (994)\ttotal: 5.94s\tremaining: 0us\n",
            "\n",
            "bestTest = 13076.02221\n",
            "bestIteration = 994\n",
            "\n",
            "3:\tloss: 13076.0222060\tbest: 13076.0222060 (3)\ttotal: 15.4s\tremaining: 23.1s\n",
            "0:\tlearn: 43416.8816198\ttest: 45024.0869803\tbest: 45024.0869803 (0)\ttotal: 2.92ms\tremaining: 2.92s\n",
            "500:\tlearn: 14870.0840117\ttest: 17681.2216015\tbest: 17681.2216015 (500)\ttotal: 993ms\tremaining: 989ms\n",
            "999:\tlearn: 14640.7261189\ttest: 17454.9548372\tbest: 17454.9548372 (999)\ttotal: 1.85s\tremaining: 0us\n",
            "\n",
            "bestTest = 17454.95484\n",
            "bestIteration = 999\n",
            "\n",
            "4:\tloss: 17454.9548372\tbest: 13076.0222060 (3)\ttotal: 17.2s\tremaining: 17.2s\n",
            "0:\tlearn: 40928.1401915\ttest: 42627.7516037\tbest: 42627.7516037 (0)\ttotal: 6.35ms\tremaining: 6.34s\n",
            "500:\tlearn: 11777.8108599\ttest: 15473.7966145\tbest: 15469.4893011 (496)\ttotal: 1.68s\tremaining: 1.67s\n",
            "999:\tlearn: 11028.5136180\ttest: 14969.7222547\tbest: 14969.7222547 (999)\ttotal: 2.84s\tremaining: 0us\n",
            "\n",
            "bestTest = 14969.72225\n",
            "bestIteration = 999\n",
            "\n",
            "5:\tloss: 14969.7222547\tbest: 13076.0222060 (3)\ttotal: 20.1s\tremaining: 13.4s\n",
            "0:\tlearn: 40923.5157623\ttest: 42623.7522827\tbest: 42623.7522827 (0)\ttotal: 1.77ms\tremaining: 1.77s\n",
            "500:\tlearn: 14535.0167920\ttest: 17295.6255925\tbest: 17293.7716891 (496)\ttotal: 670ms\tremaining: 668ms\n",
            "999:\tlearn: 14413.1578950\ttest: 17117.8252905\tbest: 17117.7172402 (989)\ttotal: 1.4s\tremaining: 0us\n",
            "\n",
            "bestTest = 17117.71724\n",
            "bestIteration = 989\n",
            "\n",
            "6:\tloss: 17117.7172402\tbest: 13076.0222060 (3)\ttotal: 21.5s\tremaining: 9.23s\n",
            "0:\tlearn: 40934.2851973\ttest: 42628.1171452\tbest: 42628.1171452 (0)\ttotal: 13.7ms\tremaining: 13.7s\n",
            "500:\tlearn: 10093.1387272\ttest: 14335.7487900\tbest: 14335.7487900 (500)\ttotal: 2.62s\tremaining: 2.61s\n",
            "999:\tlearn: 9087.4380336\ttest: 13755.0698915\tbest: 13755.0698915 (999)\ttotal: 4.12s\tremaining: 0us\n",
            "\n",
            "bestTest = 13755.06989\n",
            "bestIteration = 999\n",
            "\n",
            "7:\tloss: 13755.0698915\tbest: 13076.0222060 (3)\ttotal: 25.7s\tremaining: 6.43s\n",
            "0:\tlearn: 34287.8319050\ttest: 36239.4587927\tbest: 36239.4587927 (0)\ttotal: 776us\tremaining: 775ms\n",
            "500:\tlearn: 20041.2928314\ttest: 22994.9880028\tbest: 22994.9880028 (85)\ttotal: 350ms\tremaining: 349ms\n",
            "999:\tlearn: 20041.2928314\ttest: 22994.9880028\tbest: 22994.9880028 (85)\ttotal: 689ms\tremaining: 0us\n",
            "\n",
            "bestTest = 22994.988\n",
            "bestIteration = 85\n",
            "\n",
            "8:\tloss: 22994.9880028\tbest: 13076.0222060 (3)\ttotal: 26.4s\tremaining: 2.93s\n",
            "0:\tlearn: 34079.4819029\ttest: 36089.2673998\tbest: 36089.2673998 (0)\ttotal: 3.5ms\tremaining: 3.5s\n",
            "500:\tlearn: 10491.9722928\ttest: 14410.3428411\tbest: 14410.3428411 (500)\ttotal: 987ms\tremaining: 983ms\n",
            "999:\tlearn: 9715.8986139\ttest: 14025.1517579\tbest: 14025.1517579 (999)\ttotal: 1.96s\tremaining: 0us\n",
            "\n",
            "bestTest = 14025.15176\n",
            "bestIteration = 999\n",
            "\n",
            "9:\tloss: 14025.1517579\tbest: 13076.0222060 (3)\ttotal: 28.4s\tremaining: 0us\n",
            "Estimating final quality...\n",
            "Training on fold [0/3]\n",
            "0:\tlearn: 41333.2523364\ttest: 40756.7445391\tbest: 40756.7445391 (0)\ttotal: 5.43ms\tremaining: 5.42s\n",
            "500:\tlearn: 9346.3097172\ttest: 12674.9261696\tbest: 12668.4231775 (478)\ttotal: 3.78s\tremaining: 3.77s\n",
            "999:\tlearn: 8045.0902132\ttest: 12590.5781959\tbest: 12572.3412465 (732)\ttotal: 6.91s\tremaining: 0us\n",
            "\n",
            "bestTest = 12572.34125\n",
            "bestIteration = 732\n",
            "\n",
            "Training on fold [1/3]\n",
            "0:\tlearn: 41441.2665657\ttest: 40652.5250738\tbest: 40652.5250738 (0)\ttotal: 5.5ms\tremaining: 5.5s\n",
            "500:\tlearn: 9247.6500593\ttest: 12411.7744998\tbest: 12411.2680990 (499)\ttotal: 2.01s\tremaining: 2s\n",
            "999:\tlearn: 7856.8892468\ttest: 12372.0540450\tbest: 12345.2507658 (771)\ttotal: 4.2s\tremaining: 0us\n",
            "\n",
            "bestTest = 12345.25077\n",
            "bestIteration = 771\n",
            "\n",
            "Training on fold [2/3]\n",
            "0:\tlearn: 40690.7927116\ttest: 42090.2634129\tbest: 42090.2634129 (0)\ttotal: 13.8ms\tremaining: 13.8s\n",
            "500:\tlearn: 8384.7852991\ttest: 13347.3062126\tbest: 13340.7131455 (498)\ttotal: 2.04s\tremaining: 2.04s\n",
            "999:\tlearn: 7331.2516303\ttest: 13132.1331394\tbest: 13132.1331394 (999)\ttotal: 4.95s\tremaining: 0us\n",
            "\n",
            "bestTest = 13132.13314\n",
            "bestIteration = 999\n",
            "\n"
          ]
        },
        {
          "output_type": "execute_result",
          "data": {
            "text/plain": [
              "{'learn': {'RMSE': 7896.203987655419}}"
            ]
          },
          "metadata": {},
          "execution_count": 80
        }
      ]
    },
    {
      "cell_type": "code",
      "source": [
        "# Лучшие параметры модели из перебора\n",
        "randomized_search_result[\"params\"]"
      ],
      "metadata": {
        "colab": {
          "base_uri": "https://localhost:8080/"
        },
        "id": "C4R0JWroGZa3",
        "outputId": "43daaa1c-3d1f-4dbe-e644-d8967518913d"
      },
      "execution_count": 81,
      "outputs": [
        {
          "output_type": "execute_result",
          "data": {
            "text/plain": [
              "{'depth': 4, 'one_hot_max_size': 2, 'learning_rate': 0.1, 'l2_leaf_reg': 2}"
            ]
          },
          "metadata": {},
          "execution_count": 81
        }
      ]
    },
    {
      "cell_type": "code",
      "source": [
        "print(f\"r2 на тренировочной выборке: {calculate_metric(model, train_data_reg, y_train):.4f}\")\n",
        "print(f\"r2 на валидационной выборке: {calculate_metric(model, eval_data_reg, y_val):.4f}\")\n",
        "\n",
        "print(f\"mse на тренировочной выборке: {calculate_metric(model, train_data_reg, y_train, mse):.4f}\")\n",
        "print(f\"mse на валидационной выборке: {calculate_metric(model, eval_data_reg, y_val, mse):.4f}\")"
      ],
      "metadata": {
        "colab": {
          "base_uri": "https://localhost:8080/"
        },
        "id": "nC4aDrkzGbu5",
        "outputId": "70bc3ff3-682b-40a1-cb89-39cae76435fb"
      },
      "execution_count": 82,
      "outputs": [
        {
          "output_type": "stream",
          "name": "stdout",
          "text": [
            "r2 на тренировочной выборке: 0.8462\n",
            "r2 на валидационной выборке: 0.6820\n",
            "mse на тренировочной выборке: 65667702.7176\n",
            "mse на валидационной выборке: 142071076.6451\n"
          ]
        }
      ]
    },
    {
      "cell_type": "markdown",
      "source": [
        "Оптимизация гиперпараметров улучшила метрик с 0,54 до 0,68 на валидационной выборке."
      ],
      "metadata": {
        "id": "Waq2eAFEGjCd"
      }
    },
    {
      "cell_type": "code",
      "source": [
        "PredictionErrorDisplay.from_predictions(\n",
        "    y_val,\n",
        "    model.predict(eval_data_reg),\n",
        "    kind=\"actual_vs_predicted\",\n",
        "    scatter_kwargs={\"alpha\": 0.5},\n",
        ");"
      ],
      "metadata": {
        "colab": {
          "base_uri": "https://localhost:8080/",
          "height": 449
        },
        "id": "GEooL0wxGi0H",
        "outputId": "364f9f47-0438-4292-a7ed-f939d6e9fd99"
      },
      "execution_count": 83,
      "outputs": [
        {
          "output_type": "display_data",
          "data": {
            "text/plain": [
              "<Figure size 640x480 with 1 Axes>"
            ],
            "image/png": "[encoded data removed]"
          },
          "metadata": {}
        }
      ]
    },
    {
      "cell_type": "code",
      "source": [
        "# сохранение модели\n",
        "model.save_model(\"catboost_model.cbm\", format=\"cbm\")  # есть свой формат данных"
      ],
      "metadata": {
        "id": "nn1kvR2rGwFW"
      },
      "execution_count": 84,
      "outputs": []
    }
  ]
}